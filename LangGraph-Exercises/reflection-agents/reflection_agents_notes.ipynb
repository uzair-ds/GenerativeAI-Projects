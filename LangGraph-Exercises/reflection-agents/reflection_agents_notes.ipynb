{
 "cells": [
  {
   "cell_type": "markdown",
   "id": "073bd2de",
   "metadata": {},
   "source": [
    "## *Reflection Agents*\n",
    "\n",
    "- Reflection agents are AI systems designed to improve their own outputs by evaluating and critiquing their previous responses in a loop. \n",
    "\n",
    "- They use a reflection-style architecture where one agent generates an answer, and another agent (the reflection or critique agent) reviews that answer, points out errors or weaknesses, and suggests improvements. This process can repeat multiple times, refining the output iteratively until it meets quality standards or a stopping condition is reached.\n",
    "\n",
    "*How Reflection Agents Work*\n",
    "- Main agent: Attempts to solve the user’s task by generating an initial response.\n",
    "\n",
    " - Reflection (critique) agent: Reviews the main agent’s output, providing constructive feedback on accuracy, completeness, clarity, helpfulness, and safety.\n",
    "\n",
    " - The reflection agent’s critique is fed back to the main agent, which revises its response accordingly.\n",
    "\n",
    " - This loop continues for a fixed number of iterations or until the reflection agent signals no further improvements are needed.\n",
    "\n",
    "\n",
    "*Example Workflow in LangGraph*\n",
    "```\n",
    "User input is sent to the main agent.\n",
    "Main agent generates a response.\n",
    "Reflection agent evaluates the response and either:\n",
    "Sends critiques back to the main agent for revision, or\n",
    "Approves the response and ends the loop.\n",
    "The final improved response is returned to the user.\n",
    "```\n",
    "\n",
    "\n",
    "\n"
   ]
  },
  {
   "cell_type": "markdown",
   "id": "ad781529",
   "metadata": {},
   "source": [
    "##  *Chains*\n",
    "#### *Generation Chain & Reflect Chain* \n",
    "\n",
    "- Generation Chain and Reflect Chain are two complementary components used in LangChain (and LangGraph) to build AI workflows that generate content and then improve it through self-reflection.\n",
    "\n",
    "*Generation Chain*\n",
    "- The generation chain is responsible for producing an initial output based on the user’s input or task.\n",
    "- It typically consists of a prompt template combined with a language model (LLM) that generates text, answers, or other content.\n",
    "\n",
    "*Reflect Chain*\n",
    "- The reflect chain acts as a critic or reviewer of the generation chain’s output.\n",
    "- It uses a different prompt designed to evaluate, critique, and suggest improvements for the generated content.\n",
    "- The reflect chain takes the generated output as input and returns feedback, recommendations, or corrections.\n",
    "- This feedback is then fed back as input to the generation chain, enabling iterative refinement.\n",
    "- The reflect chain is often implemented as a separate node in a cyclical workflow where generation and reflection alternate.\n",
    "\n",
    "\n"
   ]
  },
  {
   "cell_type": "markdown",
   "id": "1a8eef99",
   "metadata": {},
   "source": [
    "*How generate chain is created ?*\n",
    "\n",
    "- LangChain handles the generation chain by structuring the process of generating content through a series of connected components called chains. A generation chain typically involves:\n",
    "\n",
    "- Using a PromptTemplate to format the user input or context into a prompt suitable for the language model.\n",
    "\n",
    "- Passing this prompt to a language model (LLM) to generate text output."
   ]
  },
  {
   "cell_type": "code",
   "execution_count": 1,
   "id": "0516b49a",
   "metadata": {},
   "outputs": [
    {
     "data": {
      "text/plain": [
       "True"
      ]
     },
     "execution_count": 1,
     "metadata": {},
     "output_type": "execute_result"
    }
   ],
   "source": [
    "from dotenv import load_dotenv\n",
    "import os\n",
    "load_dotenv()\n"
   ]
  },
  {
   "cell_type": "code",
   "execution_count": 2,
   "id": "65afbe7c",
   "metadata": {},
   "outputs": [],
   "source": [
    "from langchain_mistralai.chat_models import ChatMistralAI\n",
    "from typing import List, Sequence\n",
    "\n",
    "from langchain_core.prompts import ChatPromptTemplate\n",
    "from langchain_core.messages import AIMessage, BaseMessage, HumanMessage\n",
    "from langchain_core.prompts import ChatPromptTemplate, MessagesPlaceholder\n",
    "from langchain_openai import ChatOpenAI\n",
    "\n",
    "# Initialize with API key\n",
    "llm = ChatMistralAI(\n",
    "    model=\"mistral-large-latest\",api_key=os.getenv(\"MISTRAL_API_KEY\")\n",
    "\n",
    ")\n",
    "\n",
    "llm = ChatOpenAI(model=\"gpt-3.5-turbo-0125\",api_key=os.getenv(\"OPENAI_API_KEY\"))\n",
    "   \n",
    "generation_prompt = ChatPromptTemplate.from_messages([\n",
    "    (\"system\", \"You are a writing assistant. Write a clear 5-paragraph essay. If critique is provided, revise your work.\"),\n",
    "    MessagesPlaceholder(variable_name=\"messages\"),\n",
    "])\n",
    "generate_chain = generation_prompt | llm"
   ]
  },
  {
   "cell_type": "code",
   "execution_count": 3,
   "id": "6afc9471",
   "metadata": {},
   "outputs": [],
   "source": [
    "# Reflect Chain\n",
    "reflection_prompt = ChatPromptTemplate.from_messages([\n",
    "    (\"system\", \"You are a teacher. Provide critique and suggestions to improve the following essay.\"),\n",
    "    MessagesPlaceholder(variable_name=\"messages\"),\n",
    "])\n",
    "reflect_chain = reflection_prompt | llm\n"
   ]
  },
  {
   "cell_type": "code",
   "execution_count": 4,
   "id": "319cbe8f",
   "metadata": {},
   "outputs": [],
   "source": [
    "def generation_node(state: Sequence[BaseMessage]):\n",
    "    return generate_chain.invoke({\"messages\": state})\n",
    "\n",
    "\n",
    "def reflection_node(messages: Sequence[BaseMessage]) -> List[BaseMessage]:\n",
    "    res = reflect_chain.invoke({\"messages\": messages})\n",
    "    return [HumanMessage(content=res.content)]"
   ]
  },
  {
   "cell_type": "code",
   "execution_count": 5,
   "id": "7c4fc391",
   "metadata": {},
   "outputs": [
    {
     "name": "stdout",
     "output_type": "stream",
     "text": [
      "---\n",
      "config:\n",
      "  flowchart:\n",
      "    curve: linear\n",
      "---\n",
      "graph TD;\n",
      "\t__start__([<p>__start__</p>]):::first\n",
      "\tgenerate(generate)\n",
      "\treflect(reflect)\n",
      "\t__end__([<p>__end__</p>]):::last\n",
      "\t__start__ --> generate;\n",
      "\treflect --> generate;\n",
      "\tgenerate -.-> reflect;\n",
      "\tgenerate -.-> __end__;\n",
      "\tclassDef default fill:#f2f0ff,line-height:1.2\n",
      "\tclassDef first fill-opacity:0\n",
      "\tclassDef last fill:#bfb6fc\n",
      "\n"
     ]
    }
   ],
   "source": [
    "from langgraph.graph import MessageGraph, END\n",
    "# Build the graph\n",
    "builder = MessageGraph()\n",
    "builder.add_node(\"generate\", generation_node)\n",
    "builder.add_node(\"reflect\", reflection_node)\n",
    "builder.set_entry_point(\"generate\")\n",
    "\n",
    "# Stop after 6 turns\n",
    "def should_continue(state):\n",
    "    if len(state) > 6:\n",
    "        return END\n",
    "    return \"reflect\"\n",
    "\n",
    "builder.add_conditional_edges(\"generate\", should_continue)\n",
    "builder.add_edge(\"reflect\", \"generate\")\n",
    "\n",
    "graph = builder.compile()\n",
    "print(graph.get_graph().draw_mermaid())\n",
    "\n",
    "\n",
    "# Initial message\n",
    "input_messages = {\n",
    "    \"messages\": [\n",
    "        {\"role\": \"user\", \"content\": \"Write an essay about the importance of environmental conservation.\"}\n",
    "    ]\n",
    "}\n"
   ]
  },
  {
   "cell_type": "code",
   "execution_count": 6,
   "id": "79d82b10",
   "metadata": {},
   "outputs": [
    {
     "name": "stdout",
     "output_type": "stream",
     "text": [
      "Hello LangGraph\n",
      "####### [HumanMessage(content='Write an essay on - environment conservation @LangChainAI', additional_kwargs={}, response_metadata={}, id='57ab98fe-d3e3-4145-ba42-d6183fbe0543'), AIMessage(content='Environment conservation is a critical issue that has gained increasing attention in recent years due to the impact of human activities on the planet. The environment encompasses all living and non-living things that surround us, and its conservation is essential for the well-being of current and future generations. This essay will discuss the importance of environment conservation, the threats it faces, and the actions that can be taken to preserve and protect it.\\n\\nFirst and foremost, environment conservation is crucial for maintaining the balance of ecosystems and biodiversity. Ecosystems provide essential services such as clean air, water, and food, which are vital for human survival. By conserving the environment, we can protect these services and ensure a sustainable future for all living organisms on Earth. Additionally, biodiversity is key to the resilience of ecosystems, as it increases their ability to adapt to environmental changes and disturbances.\\n\\nDespite the importance of environment conservation, the environment faces numerous threats, including deforestation, pollution, climate change, and habitat destruction. Deforestation, for example, results in the loss of biodiversity and contributes to climate change through the release of carbon dioxide into the atmosphere. Pollution from various sources, such as industrial activities and plastic waste, contaminates air, water, and soil, posing health risks to humans and wildlife. Climate change, driven by the burning of fossil fuels, leads to extreme weather events and threatens the survival of many species. Habitat destruction, often caused by urbanization and agriculture, further diminishes biodiversity and disrupts ecosystems.\\n\\nTo address these threats and promote environment conservation, individuals, communities, governments, and organizations must take collective action. Individuals can make a difference by adopting sustainable practices in their daily lives, such as reducing waste, conserving energy, and supporting eco-friendly products. Communities can engage in conservation efforts by organizing clean-up events, tree planting initiatives, and awareness campaigns. Governments play a crucial role in enacting and enforcing environmental policies and regulations to protect natural habitats, reduce greenhouse gas emissions, and promote renewable energy sources. Organizations can contribute through research, education, and conservation projects aimed at preserving biodiversity and restoring degraded ecosystems.\\n\\nIn conclusion, environment conservation is vital for the health and well-being of the planet and its inhabitants. By recognizing the importance of biodiversity and ecosystems, understanding the threats they face, and taking action to protect and restore them, we can ensure a sustainable future for generations to come. It is imperative that individuals, communities, governments, and organizations work together to promote environment conservation and address the environmental challenges we currently face. Only through collective efforts can we preserve the beauty and diversity of our planet for future generations to enjoy.', additional_kwargs={'refusal': None}, response_metadata={'token_usage': {'completion_tokens': 520, 'prompt_tokens': 46, 'total_tokens': 566, 'completion_tokens_details': {'accepted_prediction_tokens': 0, 'audio_tokens': 0, 'reasoning_tokens': 0, 'rejected_prediction_tokens': 0}, 'prompt_tokens_details': {'audio_tokens': 0, 'cached_tokens': 0}}, 'model_name': 'gpt-3.5-turbo-0125', 'system_fingerprint': None, 'finish_reason': 'stop', 'logprobs': None}, id='run--a50015cc-df80-4867-abd6-3f6065888d09-0', usage_metadata={'input_tokens': 46, 'output_tokens': 520, 'total_tokens': 566, 'input_token_details': {'audio': 0, 'cache_read': 0}, 'output_token_details': {'audio': 0, 'reasoning': 0}}), HumanMessage(content=\"This essay effectively addresses the importance of environment conservation, the threats it faces, and the actions that can be taken to preserve and protect it. Here are some suggestions to improve the essay:\\n\\n1. **Introduction**: The essay could benefit from a more engaging introduction to capture the reader's attention. Consider starting with a thought-provoking statistic, a relevant quote, or a brief anecdote related to environment conservation.\\n\\n2. **Thesis Statement**: The essay could be strengthened by adding a clear thesis statement outlining the main points that will be discussed in the essay. This will help provide a roadmap for the reader and ensure that the essay stays focused.\\n\\n3. **Organization**: While the essay covers important aspects of environment conservation, consider organizing the content into distinct paragraphs to improve the flow and readability. Each paragraph could focus on a specific aspect, such as the importance of conservation, threats to the environment, and actions that can be taken.\\n\\n4. **Evidence and Examples**: To further support the points made in the essay, consider incorporating specific examples, case studies, or statistics to illustrate the impact of human activities on the environment and the benefits of conservation efforts. This will help to make the essay more persuasive and informative.\\n\\n5. **Transitions**: Use transitional phrases and sentences to smoothly connect ideas and improve the overall coherence of the essay. This will help guide the reader from one point to the next and ensure that the argument is clear and logical.\\n\\n6. **Conclusion**: The essay could be strengthened by providing a more impactful conclusion that summarizes the key points discussed and reinforces the importance of environment conservation. Consider ending with a call to action or a reflection on the significance of preserving the environment for future generations.\\n\\nBy incorporating these suggestions, the essay on environment conservation can be enhanced to effectively convey the importance of protecting the environment and inspire readers to take action in preserving our planet.\", additional_kwargs={}, response_metadata={}, id='c245087b-35e6-46ac-8ca4-09e093e580e3'), AIMessage(content='Environment conservation is a pressing issue that demands our attention and action. The well-being of our planet and its inhabitants hinges on our ability to protect and preserve the environment. As human activities continue to impact the delicate balance of ecosystems and biodiversity, it is crucial that we understand the importance of conservation, acknowledge the threats facing the environment, and take proactive steps to safeguard our natural world.\\n\\nTo begin with, environment conservation plays a pivotal role in sustaining ecosystems and biodiversity. Ecosystems provide essential services like clean air, water, and food, which are fundamental for all life forms on Earth. By conserving the environment, we can uphold these critical services and ensure a sustainable future for generations to come. Moreover, biodiversity is a cornerstone of ecosystem resilience, enhancing their capacity to adapt to changing environments and disturbances.\\n\\nHowever, despite its significance, the environment faces a myriad of threats. From deforestation and pollution to climate change and habitat destruction, human activities continue to jeopardize the health of our planet. Deforestation not only leads to the loss of biodiversity but also contributes to climate change through the release of greenhouse gases. Pollution from various sources contaminates our air, water, and soil, posing risks to both humans and wildlife. Climate change, fueled by the burning of fossil fuels, results in extreme weather events and endangers numerous species. Habitat destruction, often due to urbanization and agriculture, further diminishes biodiversity and disrupts ecosystems.\\n\\nTo combat these threats and promote environment conservation, collective action is imperative. Individuals can make a difference by adopting sustainable practices in their daily lives, such as reducing waste and supporting eco-friendly products. Communities can organize clean-up events, tree planting initiatives, and awareness campaigns to engage in conservation efforts. Governments play a crucial role in enacting and enforcing environmental policies and regulations to protect natural habitats and promote renewable energy sources. Organizations can contribute through research, education, and conservation projects aimed at preserving biodiversity and restoring degraded ecosystems.\\n\\nIn conclusion, it is evident that environment conservation is vital for the health and sustainability of our planet. By recognizing the importance of biodiversity and ecosystems, understanding the threats they face, and taking collective action to protect and restore them, we can secure a better future for all living beings. It is essential for individuals, communities, governments, and organizations to work together in promoting environment conservation and addressing the environmental challenges we face. Let us strive to preserve the beauty and diversity of our planet for the well-being of present and future generations.', additional_kwargs={'refusal': None}, response_metadata={'token_usage': {'completion_tokens': 492, 'prompt_tokens': 945, 'total_tokens': 1437, 'completion_tokens_details': {'accepted_prediction_tokens': 0, 'audio_tokens': 0, 'reasoning_tokens': 0, 'rejected_prediction_tokens': 0}, 'prompt_tokens_details': {'audio_tokens': 0, 'cached_tokens': 0}}, 'model_name': 'gpt-3.5-turbo-0125', 'system_fingerprint': None, 'finish_reason': 'stop', 'logprobs': None}, id='run--ef09f627-bfb6-4a1d-8503-f43cd4db731d-0', usage_metadata={'input_tokens': 945, 'output_tokens': 492, 'total_tokens': 1437, 'input_token_details': {'audio': 0, 'cache_read': 0}, 'output_token_details': {'audio': 0, 'reasoning': 0}}), HumanMessage(content=\"Here are some suggestions to further enhance the essay on environment conservation:\\n\\n1. **Engaging Introduction**: Start the essay with a captivating introduction to grab the reader's attention. Consider opening with a striking statistic, a relevant quote, or a compelling anecdote to draw readers in and set the tone for the essay.\\n\\n2. **Clear Thesis Statement**: Include a concise thesis statement that outlines the main points you will discuss in the essay. This will provide a clear roadmap for the reader and help focus the essay on the key arguments surrounding environment conservation.\\n\\n3. **Organizational Structure**: Ensure that the essay is well-organized with distinct paragraphs focusing on specific aspects of environment conservation, such as the importance of conservation, threats to the environment, and actions that can be taken. Each paragraph should flow logically into the next to maintain a coherent structure.\\n\\n4. **Supporting Evidence**: Strengthen your arguments by incorporating specific examples, case studies, or statistics to support the points you make. Providing concrete evidence will make your essay more persuasive and informative, reinforcing the importance of environment conservation.\\n\\n5. **Transitional Phrases**: Use transitional phrases and sentences to smoothly guide the reader from one idea to the next. Clear transitions will improve the flow of the essay and help connect your arguments in a cohesive manner.\\n\\n6. **Impactful Conclusion**: Conclude the essay with a powerful summary that reinforces the key points discussed and emphasizes the significance of environment conservation. Consider ending with a call to action or a reflection on the importance of preserving the environment for future generations.\\n\\nBy incorporating these suggestions, you can further enhance the effectiveness of your essay on environment conservation. Remember to maintain a clear focus on the importance of protecting the environment, the threats it faces, and the actions that can be taken to preserve and protect it.\", additional_kwargs={}, response_metadata={}, id='587528ab-aafd-449f-bec6-9bfb35c59743'), AIMessage(content=\"The preservation of our environment is a matter of utmost importance in today's world. As human activities continue to impact ecosystems and biodiversity, it is crucial that we prioritize environment conservation to ensure a sustainable future for all living beings. This essay will delve into the significance of conservation efforts, the various threats facing our environment, and the actions that can be taken to safeguard our natural world.\\n\\nTo capture the reader's attention from the onset, the essay can begin with a compelling introduction. This could involve starting with an eye-opening statistic, a relevant quote from a notable environmentalist, or a thought-provoking anecdote that highlights the urgency of the issue at hand. By setting the stage with engaging content, the introduction can draw readers in and establish the tone for the rest of the essay.\\n\\nA clear and concise thesis statement can help guide the essay's direction. By outlining the main points that will be discussed - the importance of conservation, the threats to the environment, and the actions that can be taken - the thesis statement serves as a roadmap for the reader, ensuring a focused and structured approach throughout the essay.\\n\\nOrganizing the content into distinct paragraphs can improve the flow and readability of the essay. Each paragraph can focus on a specific aspect, such as the critical role of conservation in sustaining ecosystems, the diverse threats posed by human activities, and the collaborative actions required to promote environment conservation. By structuring the essay in this manner, the information is presented logically and cohesively.\\n\\nTo bolster the arguments presented in the essay, incorporating supporting evidence is essential. Specific examples, case studies, or statistics can be utilized to illustrate the impact of human activities on the environment and emphasize the benefits of conservation efforts. By grounding the discussion in concrete evidence, the essay becomes more persuasive and informative, underscoring the importance of environment conservation.\\n\\nUtilizing transitional phrases and sentences can enhance the coherence of the essay. These transitions help connect ideas smoothly, guiding the reader through the different points being made and ensuring a seamless flow of information. By employing clear transitions, the essay maintains a logical progression and strengthens the overall argument being presented.\\n\\nIn conclusion, the essay can end with a powerful summary that reinforces the key points discussed and underscores the significance of environment conservation. This conclusion can serve as a call to action, urging readers to take steps towards preserving the environment for the well-being of current and future generations. By following these suggestions, the essay on environment conservation can effectively convey the importance of protecting our natural world and inspire readers to join in the efforts to safeguard our planet.\", additional_kwargs={'refusal': None}, response_metadata={'token_usage': {'completion_tokens': 508, 'prompt_tokens': 1802, 'total_tokens': 2310, 'completion_tokens_details': {'accepted_prediction_tokens': 0, 'audio_tokens': 0, 'reasoning_tokens': 0, 'rejected_prediction_tokens': 0}, 'prompt_tokens_details': {'audio_tokens': 0, 'cached_tokens': 0}}, 'model_name': 'gpt-3.5-turbo-0125', 'system_fingerprint': None, 'finish_reason': 'stop', 'logprobs': None}, id='run--3626d846-2f74-463c-b9c3-f291c9887499-0', usage_metadata={'input_tokens': 1802, 'output_tokens': 508, 'total_tokens': 2310, 'input_token_details': {'audio': 0, 'cache_read': 0}, 'output_token_details': {'audio': 0, 'reasoning': 0}}), HumanMessage(content=\"Overall, the essay effectively addresses the importance of environment conservation, the threats it faces, and the actions that can be taken to preserve and protect it. Here are some suggestions to further enhance the essay:\\n\\n1. Introduction: Consider starting the essay with a compelling hook to grab the reader's attention. This could be a striking statistic, a thought-provoking question, or a brief anecdote related to environment conservation. Engaging the reader from the beginning can make the essay more captivating.\\n\\n2. Thesis Statement: Include a clear and concise thesis statement that outlines the main points you will discuss in the essay. This will help provide a roadmap for the reader and ensure that the essay stays focused on the central argument.\\n\\n3. Organization: Ensure that the essay is well-structured with distinct paragraphs focusing on specific aspects of environment conservation. Consider dedicating separate paragraphs to the importance of conservation, the threats to the environment, and the actions that can be taken. This will help maintain a clear and logical flow of ideas.\\n\\n4. Evidence and Examples: Strengthen your arguments by incorporating specific examples, case studies, or statistics to support your points. Providing concrete evidence will make your essay more persuasive and informative. Consider including real-world examples of successful conservation efforts or the impact of environmental degradation.\\n\\n5. Transitions: Use transitional phrases and sentences to improve the overall coherence of the essay. Clear transitions will help connect ideas smoothly and guide the reader through the different sections of the essay. This will enhance the readability and flow of the essay.\\n\\n6. Conclusion: Conclude the essay with a strong and impactful summary that reinforces the key points discussed. Consider ending with a call to action or a reflection on the importance of environment conservation for the future. A compelling conclusion can leave a lasting impression on the reader.\\n\\nBy incorporating these suggestions, you can further enhance the effectiveness of your essay on environment conservation. Remember to maintain a clear focus on the importance of protecting the environment, the challenges it faces, and the collective actions needed to preserve our natural world.\", additional_kwargs={}, response_metadata={}, id='cbe722ef-46a0-4d5b-88fe-f6d515661da5'), AIMessage(content=\"Environment conservation is a critical issue that demands our immediate attention and action. As human activities continue to impact ecosystems and biodiversity, it is imperative that we prioritize conservation efforts to safeguard our planet for present and future generations. This essay will delve into the significance of environment conservation, the threats it faces, and the proactive steps that can be taken to preserve and protect our natural world.\\n\\nTo captivate the reader's interest right from the start, the essay can commence with a compelling hook. This could involve a striking statistic, a thought-provoking question, or a brief anecdote related to environment conservation. By engaging the reader at the outset, the essay can set the tone for a compelling discussion on the importance of protecting our environment.\\n\\nA clear and concise thesis statement can serve as a guiding beacon for the essay. By outlining the main points to be discussed - the critical role of conservation, the diverse threats to the environment, and the necessary actions for preservation - the thesis statement provides a roadmap for the reader, ensuring a focused and structured narrative throughout the essay.\\n\\nOrganizational structure plays a key role in enhancing the coherence of the essay. By structuring the content into distinct paragraphs that focus on specific aspects of environment conservation, such as the importance of conservation, the threats faced by the environment, and the actions that can be taken, the essay can maintain a clear and logical flow of ideas.\\n\\nTo bolster the arguments presented in the essay, it is essential to incorporate supporting evidence. Utilizing specific examples, case studies, or statistics can help illustrate the impact of human activities on the environment and underscore the benefits of conservation efforts. By grounding the discussion in concrete evidence, the essay becomes more persuasive and informative, emphasizing the critical need for environment conservation.\\n\\nTransitional phrases and sentences can further enhance the coherence of the essay. By using clear transitions to connect ideas smoothly and guide the reader through different sections, the essay maintains a logical progression and improves overall readability. This ensures that the arguments flow seamlessly and that the reader can easily follow the narrative.\\n\\nIn conclusion, the essay should end with a powerful summary that reinforces the key points discussed and emphasizes the significance of environment conservation. Consider concluding with a call to action or a reflection on the importance of preserving the environment for the well-being of current and future generations. By incorporating these suggestions, the essay on environment conservation can effectively convey the urgency of protecting our natural world and inspire readers to take action in preserving our planet.\", additional_kwargs={'refusal': None}, response_metadata={'token_usage': {'completion_tokens': 488, 'prompt_tokens': 2722, 'total_tokens': 3210, 'completion_tokens_details': {'accepted_prediction_tokens': 0, 'audio_tokens': 0, 'reasoning_tokens': 0, 'rejected_prediction_tokens': 0}, 'prompt_tokens_details': {'audio_tokens': 0, 'cached_tokens': 0}}, 'model_name': 'gpt-3.5-turbo-0125', 'system_fingerprint': None, 'finish_reason': 'stop', 'logprobs': None}, id='run--fc93db68-e281-4b86-b410-4b69043feccd-0', usage_metadata={'input_tokens': 2722, 'output_tokens': 488, 'total_tokens': 3210, 'input_token_details': {'audio': 0, 'cache_read': 0}, 'output_token_details': {'audio': 0, 'reasoning': 0}})]\n"
     ]
    }
   ],
   "source": [
    "print(\"Hello LangGraph\")\n",
    "inputs = HumanMessage(content=\"Write an essay on - environment conservation @LangChainAI\")\n",
    "response = graph.invoke(inputs)\n",
    "\n",
    "if isinstance(response, AIMessage):\n",
    "    print(\"*******\",response.content)\n",
    "else:\n",
    "    print(\"#######\",response) "
   ]
  },
  {
   "cell_type": "code",
   "execution_count": null,
   "id": "dc43284a",
   "metadata": {},
   "outputs": [],
   "source": []
  }
 ],
 "metadata": {
  "kernelspec": {
   "display_name": "neutra_lg",
   "language": "python",
   "name": "python3"
  },
  "language_info": {
   "codemirror_mode": {
    "name": "ipython",
    "version": 3
   },
   "file_extension": ".py",
   "mimetype": "text/x-python",
   "name": "python",
   "nbconvert_exporter": "python",
   "pygments_lexer": "ipython3",
   "version": "3.10.16"
  }
 },
 "nbformat": 4,
 "nbformat_minor": 5
}
