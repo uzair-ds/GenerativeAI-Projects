{
 "cells": [
  {
   "cell_type": "markdown",
   "id": "ffcbb673",
   "metadata": {},
   "source": [
    "## *Reflexion Agents*"
   ]
  },
  {
   "cell_type": "markdown",
   "id": "44055632",
   "metadata": {},
   "source": []
  }
 ],
 "metadata": {
  "kernelspec": {
   "display_name": "neutra_lg",
   "language": "python",
   "name": "python3"
  },
  "language_info": {
   "name": "python",
   "version": "3.10.16"
  }
 },
 "nbformat": 4,
 "nbformat_minor": 5
}
