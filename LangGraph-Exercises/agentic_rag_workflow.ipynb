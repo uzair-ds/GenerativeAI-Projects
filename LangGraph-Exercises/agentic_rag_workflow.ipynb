{
 "cells": [
  {
   "cell_type": "markdown",
   "id": "9c5b5c53",
   "metadata": {},
   "source": [
    "## *Implementing Agentic RAG Workflow*"
   ]
  },
  {
   "cell_type": "markdown",
   "id": "99497103",
   "metadata": {},
   "source": []
  }
 ],
 "metadata": {
  "language_info": {
   "name": "python"
  }
 },
 "nbformat": 4,
 "nbformat_minor": 5
}
