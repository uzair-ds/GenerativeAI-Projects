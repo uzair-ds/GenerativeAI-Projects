{
 "cells": [
  {
   "cell_type": "markdown",
   "id": "687a8892",
   "metadata": {
    "vscode": {
     "languageId": "plaintext"
    }
   },
   "source": [
    "### Explaining ReAct Agent in LangChain"
   ]
  },
  {
   "cell_type": "markdown",
   "id": "0c4cebcc",
   "metadata": {},
   "source": [
    "- Use for model to decide what to do next.\n",
    "- Model generates - Thought, Action, Action Input & Observation.\n",
    "- This loop continues untill it get the final answer."
   ]
  },
  {
   "cell_type": "markdown",
   "id": "814c95ed",
   "metadata": {},
   "source": [
    "A ReAct agent is a piece of code that coordinates between reasoning and acting, where:\n",
    "\n",
    "- The reasoning is carried out by the language model\n",
    "- The application code performs the acting, at the instruction of the language model.\n",
    "- This allows problems to be solved by letting a model 'think' through the tasks step-by-step, taking actions and getting action feedback before determining the next steps."
   ]
  },
  {
   "cell_type": "markdown",
   "id": "2b0d2734",
   "metadata": {},
   "source": [
    "AI Agents operates by decomposing complex goals into manageable subtasks, selecting appropriate tools (such as search engines, database queries, code execution environments, API calls, and other agents) for each subtask, and iteratively executing these tools while analyzing the resulting observations."
   ]
  },
  {
   "cell_type": "markdown",
   "id": "c5a767c7",
   "metadata": {},
   "source": [
    "ReAct as a methodology for creating AI agents capable of performing quite complex tasks given a set of tools."
   ]
  },
  {
   "cell_type": "code",
   "execution_count": 2,
   "id": "fe2aa7c6",
   "metadata": {},
   "outputs": [
    {
     "data": {
      "text/plain": [
       "True"
      ]
     },
     "execution_count": 2,
     "metadata": {},
     "output_type": "execute_result"
    }
   ],
   "source": [
    "import os\n",
    "import warnings\n",
    "warnings.filterwarnings(\"ignore\")\n",
    "from dotenv import load_dotenv\n",
    "load_dotenv()"
   ]
  },
  {
   "cell_type": "code",
   "execution_count": 4,
   "id": "32102df3",
   "metadata": {},
   "outputs": [],
   "source": [
    "openai_apikey = os.getenv(\"OPENAI_API_KEY\")\n",
    "serpapi_apikey = os.getenv(\"SERP_API\")"
   ]
  },
  {
   "cell_type": "markdown",
   "id": "6d156894",
   "metadata": {},
   "source": [
    "### Building Product Comparison Assistant"
   ]
  },
  {
   "cell_type": "code",
   "execution_count": 6,
   "id": "5853d021",
   "metadata": {},
   "outputs": [],
   "source": [
    "from langchain.tools import Tool\n",
    "import requests\n",
    "\n",
    "def search_google_shopping(query):\n",
    "    api_key = serpapi_apikey\n",
    "    url = \"https://serpapi.com/search\"\n",
    "    params = {\n",
    "        \"engine\": \"google_shopping\",\n",
    "        \"q\": query,\n",
    "        \"api_key\": api_key\n",
    "    }\n",
    "    response = requests.get(url, params=params)\n",
    "    data = response.json()\n",
    "\n",
    "    results = []\n",
    "    for item in data.get(\"shopping_results\", []):\n",
    "        results.append(f\"{item.get('title')} - ${item.get('price')} at {item.get('source')}\")\n",
    "    return \"\\n\".join(results[:5])  # Limit to top 5 results\n",
    "\n",
    "serpapi_tool = Tool(\n",
    "    name=\"ProductSearchTool\",\n",
    "    func=search_google_shopping,\n",
    "    description=\"Search for product prices using Google Shopping via SerpAPI. Input should be a product name like 'iPhone 14'.\"\n",
    ")\n"
   ]
  },
  {
   "cell_type": "code",
   "execution_count": 14,
   "id": "5e516fdb",
   "metadata": {},
   "outputs": [],
   "source": [
    "from langchain.agents import initialize_agent\n",
    "from langchain.agents.agent_types import AgentType\n",
    "from langchain.llms import OpenAI\n",
    "\n",
    "llm = OpenAI(\n",
    "temperature=0,\n",
    "    openai_api_key=openai_apikey)  \n",
    "\n",
    "agent = initialize_agent(\n",
    "    tools=[serpapi_tool],\n",
    "    llm=llm,\n",
    "    agent=AgentType.ZERO_SHOT_REACT_DESCRIPTION,\n",
    "    verbose=True\n",
    ")\n"
   ]
  },
  {
   "cell_type": "code",
   "execution_count": 16,
   "id": "bc16d727",
   "metadata": {},
   "outputs": [
    {
     "name": "stdout",
     "output_type": "stream",
     "text": [
      "\n",
      "\n",
      "\u001b[1m> Entering new AgentExecutor chain...\u001b[0m\n",
      "\u001b[32;1m\u001b[1;3m I should use the ProductSearchTool to search for the product price.\n",
      "Action: ProductSearchTool\n",
      "Action Input: \"MacBook Air M2 India\"\u001b[0m\n",
      "Observation: \u001b[36;1m\u001b[1;3mApple MacBook Air M2 Chip 13-inch - $$229.98 at eBay - epc-smallparts\n",
      "Apple 13 inch MacBook Air M2 - $$799.00 at Connection\n",
      "Apple 2023 MacBook Air M2 Chip - $$767.90 at Amazon.com - Seller\n",
      "Apple MacBook Air 13.6-inch M2 Chip (Refurbished) - $$655.00 at Walmart - Seller\n",
      "MacBook Air M2 13.6\" (2022) - $$849.99 at Mac Star Computers and Camera Store\u001b[0m\n",
      "Thought:\u001b[32;1m\u001b[1;3m I now know the final answer\n",
      "Final Answer: The best price for MacBook Air M2 in India is $655.00 at Walmart - Seller.\u001b[0m\n",
      "\n",
      "\u001b[1m> Finished chain.\u001b[0m\n"
     ]
    },
    {
     "data": {
      "text/plain": [
       "'The best price for MacBook Air M2 in India is $655.00 at Walmart - Seller.'"
      ]
     },
     "execution_count": 16,
     "metadata": {},
     "output_type": "execute_result"
    }
   ],
   "source": [
    "user_query = \"What is the best price for MacBook Air M2 in India?\"\n",
    "agent.run(user_query)"
   ]
  },
  {
   "cell_type": "code",
   "execution_count": null,
   "id": "3e445a8c",
   "metadata": {},
   "outputs": [],
   "source": []
  }
 ],
 "metadata": {
  "kernelspec": {
   "display_name": "neutra_lg",
   "language": "python",
   "name": "python3"
  },
  "language_info": {
   "codemirror_mode": {
    "name": "ipython",
    "version": 3
   },
   "file_extension": ".py",
   "mimetype": "text/x-python",
   "name": "python",
   "nbconvert_exporter": "python",
   "pygments_lexer": "ipython3",
   "version": "3.10.16"
  }
 },
 "nbformat": 4,
 "nbformat_minor": 5
}
