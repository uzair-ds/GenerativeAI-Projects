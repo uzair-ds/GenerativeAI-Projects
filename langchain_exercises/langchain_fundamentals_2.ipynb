{
 "cells": [
  {
   "cell_type": "markdown",
   "metadata": {},
   "source": [
    "## Agents"
   ]
  },
  {
   "cell_type": "code",
   "execution_count": 50,
   "metadata": {},
   "outputs": [
    {
     "data": {
      "text/html": [
       "<style>.container { width:90% !important; }</style>"
      ],
      "text/plain": [
       "<IPython.core.display.HTML object>"
      ]
     },
     "metadata": {},
     "output_type": "display_data"
    }
   ],
   "source": [
    "# Run this cell if you want to make your display wider\n",
    "from IPython.display import display, HTML\n",
    "display(HTML(\"<style>.container { width:90% !important; }</style>\"))"
   ]
  },
  {
   "cell_type": "markdown",
   "metadata": {},
   "source": [
    "- The core idea of agents is to use a language model to choose a sequence of actions to take.\n",
    "- In chains, a sequence of actions is hardcoded (in code). In agents, a language model is used as a reasoning engine to determine which actions to take and in which order."
   ]
  },
  {
   "cell_type": "markdown",
   "metadata": {},
   "source": [
    "### Tools"
   ]
  },
  {
   "cell_type": "markdown",
   "metadata": {},
   "source": [
    "A 'capability' of an agent.\n",
    "\n",
    "#### Toolkit\n",
    "Groups of tools that your agent can select from"
   ]
  },
  {
   "cell_type": "markdown",
   "metadata": {},
   "source": [
    "## AgentAction\n",
    "This is a dataclass that represents the action an agent should take. It has a tool property (which is the name of the tool that should be invoked) and a tool_input property (the input to that tool)"
   ]
  },
  {
   "cell_type": "markdown",
   "metadata": {},
   "source": [
    "## AgentFinish\n",
    "This represents the final result from an agent, when it is ready to return to the user. It contains a return_values key-value mapping, which contains the final agent output. Usually, this contains an output key containing a string that is the agent's response."
   ]
  },
  {
   "cell_type": "markdown",
   "metadata": {},
   "source": [
    "## Intermediate Steps\n",
    "These represent previous agent actions and corresponding outputs from this CURRENT agent run. These are important to pass to future iteration so the agent knows what work it has already done. This is typed as a List[Tuple[AgentAction, Any]]. Note that observation is currently left as type Any to be maximally flexible. In practice, this is often a string."
   ]
  },
  {
   "cell_type": "markdown",
   "metadata": {},
   "source": [
    "## Agent\n",
    "This is the chain responsible for deciding what step to take next. This is usually powered by a language model, a prompt, and an output parser."
   ]
  },
  {
   "cell_type": "markdown",
   "metadata": {},
   "source": [
    "### Agent Inputs\n",
    "The inputs to an agent are a key-value mapping. There is only one required key: intermediate_steps, which corresponds to Intermediate Steps as described above."
   ]
  },
  {
   "cell_type": "markdown",
   "metadata": {},
   "source": [
    "## Agent Outputs\n",
    "The output is the next action(s) to take or the final response to send to the user (AgentActions or AgentFinish). Concretely, this can be typed as Union[AgentAction, List[AgentAction], AgentFinish]."
   ]
  },
  {
   "cell_type": "markdown",
   "metadata": {},
   "source": [
    "## AgentExecutor\n",
    "The agent executor is the runtime for an agent. This is what actually calls the agent, executes the actions it chooses, passes the action outputs back to the agent, and repeats."
   ]
  },
  {
   "cell_type": "markdown",
   "metadata": {},
   "source": [
    "\n",
    "next_action = agent.get_action(...)\n",
    "while next_action != AgentFinish:\n",
    "    observation = run(next_action)\n",
    "    next_action = agent.get_action(..., next_action, observation)\n",
    "return next_action\n",
    "\n"
   ]
  },
  {
   "cell_type": "markdown",
   "metadata": {},
   "source": [
    "Toolkit - group of tools required to accomplish some task. The took is a function a agent can invoke."
   ]
  },
  {
   "cell_type": "code",
   "execution_count": 1,
   "metadata": {},
   "outputs": [
    {
     "name": "stderr",
     "output_type": "stream",
     "text": [
      "/Users/uzair/miniconda3/envs/langchain/lib/python3.9/site-packages/langchain_core/_api/deprecation.py:117: LangChainDeprecationWarning: The class `langchain_community.llms.openai.OpenAI` was deprecated in langchain-community 0.0.10 and will be removed in 0.2.0. An updated version of the class exists in the langchain-openai package and should be used instead. To use it run `pip install -U langchain-openai` and import as `from langchain_openai import OpenAI`.\n",
      "  warn_deprecated(\n"
     ]
    }
   ],
   "source": [
    "from langchain.agents import load_tools\n",
    "from langchain.agents import initialize_agent\n",
    "from langchain.llms import OpenAI\n",
    "import json\n",
    "import os\n",
    "\n",
    "llm = OpenAI(temperature=0, openai_api_key=os.getenv(\"GPT4_API_KEY\"))"
   ]
  },
  {
   "cell_type": "code",
   "execution_count": 2,
   "metadata": {},
   "outputs": [],
   "source": [
    "serp_api_key  = os.getenv(\"SERPAPI_API_KEY\")\n",
    "\n"
   ]
  },
  {
   "cell_type": "code",
   "execution_count": 3,
   "metadata": {},
   "outputs": [
    {
     "data": {
      "text/plain": [
       "'b3f3607872b6bc364ea9f7671b70b48e4085596c0d9dd48c864f310c47bc5478'"
      ]
     },
     "execution_count": 3,
     "metadata": {},
     "output_type": "execute_result"
    }
   ],
   "source": [
    "serp_api_key"
   ]
  },
  {
   "cell_type": "code",
   "execution_count": 4,
   "metadata": {},
   "outputs": [],
   "source": [
    "toolkit = load_tools([\"serpapi\"], llm=llm, serpapi_api_key=serp_api_key)\n"
   ]
  },
  {
   "cell_type": "code",
   "execution_count": 5,
   "metadata": {},
   "outputs": [
    {
     "name": "stderr",
     "output_type": "stream",
     "text": [
      "/Users/uzair/miniconda3/envs/langchain/lib/python3.9/site-packages/langchain_core/_api/deprecation.py:117: LangChainDeprecationWarning: The function `initialize_agent` was deprecated in LangChain 0.1.0 and will be removed in 0.2.0. Use Use new agent constructor methods like create_react_agent, create_json_agent, create_structured_chat_agent, etc. instead.\n",
      "  warn_deprecated(\n"
     ]
    }
   ],
   "source": [
    "agent = initialize_agent(toolkit, llm, agent=\"zero-shot-react-description\", verbose=True, return_intermediate_steps=True)\n"
   ]
  },
  {
   "cell_type": "code",
   "execution_count": 6,
   "metadata": {},
   "outputs": [
    {
     "name": "stderr",
     "output_type": "stream",
     "text": [
      "/Users/uzair/miniconda3/envs/langchain/lib/python3.9/site-packages/langchain_core/_api/deprecation.py:117: LangChainDeprecationWarning: The function `__call__` was deprecated in LangChain 0.1.0 and will be removed in 0.2.0. Use invoke instead.\n",
      "  warn_deprecated(\n"
     ]
    },
    {
     "name": "stdout",
     "output_type": "stream",
     "text": [
      "\n",
      "\n",
      "\u001b[1m> Entering new AgentExecutor chain...\u001b[0m\n",
      "\u001b[32;1m\u001b[1;3m I should search for the name of the band and their first album\n",
      "Action: Search\n",
      "Action Input: \"Natalie Bergman band first album\"\u001b[0m\n",
      "Observation: \u001b[36;1m\u001b[1;3mWild Belle is an American band, composed of siblings Elliot Bergman and Natalie Bergman. They appeared on Conan on November 26, 2012. Their debut album, Isles, was released by Columbia Records on March 12, 2013.\u001b[0m\n",
      "Thought:\u001b[32;1m\u001b[1;3m Now I know the name of the band and their first album\n",
      "Action: Search\n",
      "Action Input: \"Wild Belle Isles\"\u001b[0m\n",
      "Observation: \u001b[36;1m\u001b[1;3m['Isles is the debut studio album by the American brother/sister duo Wild Belle. It was released on March 12, 2013, by Columbia Records. The album encompasses many genres, and its title refers to the band\\'s goal of making each song its own \"isle\" with a distinct musical style.', 'Isles type: Studio album by Wild Belle.', 'Isles main_tab_text: Overview.', 'Isles kgmid: /m/0rpgkdd.', 'Isles artist: Wild Belle.', 'Isles genres: Pop music, Electronica.', 'Isles release_date: March 12, 2013.', 'Isles is the debut studio album by the American brother/sister duo Wild Belle. It was released on March 12, 2013, by Columbia Records.', 'Wilde Belle is a unique combination of bold songwriting, studio wizardry and late night vibes hailing from Chicago, IL. Natalie and Elliot wrote, produced and ...', 'Play Wild Belle on SoundCloud and discover followers on SoundCloud | Stream tracks, albums, playlists on desktop and mobile.', 'Wild Belle are a fashion-crowd-lauded brother-sister duo from Chicago who now, as custom dictates, find themselves settled in Brooklyn.', 'Official Wild Belle YouTube channel. wildbelle.comand 4 more links. Subscribe. Home. Videos. Live. Releases. Playlists.', \"They are a breath of fresh air. The sounds are authentic and flow with ease. They are also catchier than syphilis. And it's not all reggae here ...\", 'Listen to Isles, a playlist curated by Wild Belle on desktop and mobile.', 'Limited vinyl LP including bonus CD edition. 2013 debut from this duo consisting of siblings Natalie and Elliot Bergman. Wilde Belle is a unique combination ...']\u001b[0m\n",
      "Thought:\u001b[32;1m\u001b[1;3m I now know the first album of the band that Natalie Bergman is a part of\n",
      "Final Answer: Isles\u001b[0m\n",
      "\n",
      "\u001b[1m> Finished chain.\u001b[0m\n"
     ]
    }
   ],
   "source": [
    "response = agent({\"input\":\"what was the first album of the\" \n",
    "                    \"band that Natalie Bergman is a part of?\"})"
   ]
  },
  {
   "cell_type": "code",
   "execution_count": 7,
   "metadata": {},
   "outputs": [
    {
     "name": "stdout",
     "output_type": "stream",
     "text": [
      "\n",
      "\n",
      "\u001b[1m> Entering new AgentExecutor chain...\u001b[0m\n",
      "\u001b[32;1m\u001b[1;3m I should search for news articles and reliable sources to understand the current situation.\n",
      "Action: Search\n",
      "Action Input: \"Ukraine and Russia conflict\"\u001b[0m\n",
      "Observation: \u001b[36;1m\u001b[1;3m[{'title': 'Russia-Ukraine war at a glance: what we know on day 733', 'link': 'https://www.theguardian.com/world/2024/feb/26/russia-ukraine-war-at-a-glance-what-we-know-on-day-733', 'source': 'The Guardian', 'date': '3 hours ago', 'thumbnail': 'https://serpapi.com/searches/65dc22d65b54ef48ca18c504/images/e9bbf06ac16fb457fe76371e35c715dfc53041a8b9644b30.jpeg'}, {'title': 'February 25, 2024 - Russia-Ukraine news', 'link': 'https://www.cnn.com/europe/live-news/russia-ukraine-war-news-02-25-24/index.html', 'source': 'CNN', 'date': '32 mins ago', 'thumbnail': 'https://serpapi.com/searches/65dc22d65b54ef48ca18c504/images/e9bbf06ac16fb45746f97fe0905c3f3197dac77fd1709191.jpeg', 'live': True}, {'title': '31000 Ukrainian Soldiers Killed in Two Years of War, Zelensky Says', 'link': 'https://www.nytimes.com/2024/02/25/world/europe/ukraine-war-toll-zelensky.html', 'source': 'The New York Times', 'date': '12 hours ago', 'thumbnail': 'https://serpapi.com/searches/65dc22d65b54ef48ca18c504/images/e9bbf06ac16fb4575562ad0b1a277640408d9bc2c34a19b3.jpeg'}, {'title': \"Russia-Ukraine war: Key events in 2nd year of Russia's invasion of Ukraine\", 'link': 'https://abcnews.go.com/International/russia-ukraine-war-key-events-2nd-year-russias/story?id=107325985', 'source': 'ABC News - Breaking News, Latest News and Videos', 'date': '2 days ago', 'thumbnail': 'https://serpapi.com/searches/65dc22d65b54ef48ca18c504/images/e9bbf06ac16fb457a876b027915a604b2a78e4a73cd0d63a.jpeg'}, {'title': 'Ukraine in maps: Tracking the war with Russia', 'link': 'https://www.bbc.co.uk/news/world-europe-60506682', 'source': 'BBC', 'date': '4 days ago', 'thumbnail': 'https://encrypted-tbn0.gstatic.com/images?q=tbn:ANd9GcSgSmw4RO3QIA5q1Sd0-Jy-1WCco0NcSWpQc8rMy2iHYJeElIiUSr3FGb0&usqp=CAI&s'}, {'title': 'Russia-Ukraine war at a glance: what we know on day 732', 'link': 'https://www.theguardian.com/world/2024/feb/25/russia-ukraine-war-at-a-glance-what-we-know-on-day-731', 'source': 'The Guardian', 'date': '3 hours ago', 'thumbnail': 'https://encrypted-tbn0.gstatic.com/images?q=tbn:ANd9GcT38Lx_LhsIMRwBgWjzPkDRuqq6T654NVUliAI66pnNXv87nTh5JDohrW4&usqp=CAI&s'}, {'title': \"Rod Stewart labels Vladimir Putin an 'a******e' and urges support for Ukraine 'right to the end'\", 'link': 'https://news.sky.com/story/rod-stewart-labels-vladimir-putin-an-a-e-and-urges-support-for-ukraine-right-to-the-end-13079586', 'source': 'Sky News', 'date': '2 days ago', 'thumbnail': 'https://encrypted-tbn0.gstatic.com/images?q=tbn:ANd9GcTQHbE5VRcj6MjTLufITRAr2Ea9EzVHr-CACKG3zWAAONIm99_8hlOZlIY&usqp=CAI&s'}, {'title': 'Wars and elections: How European leaders can maintain public support for Ukraine', 'link': 'https://ecfr.eu/publication/wars-and-elections-how-european-leaders-can-maintain-public-support-for-ukraine/', 'source': 'European Council on Foreign Relations', 'date': '4 days ago', 'thumbnail': 'https://encrypted-tbn0.gstatic.com/images?q=tbn:ANd9GcThadRb1IkyuDC_eKm2Mfxgw6wg0fbp8iNbcTIg6uXEddHGBkX7s2LQMW0&usqp=CAI&s'}]\u001b[0m\n",
      "Thought:\u001b[32;1m\u001b[1;3m After reading through multiple sources, I can see that the conflict between Ukraine and Russia has been ongoing for over 700 days and has resulted in thousands of casualties. The situation is constantly evolving and it is important to stay updated on the latest developments.\n",
      "Action: Search\n",
      "Action Input: \"Ukraine and Russia conflict latest news\"\u001b[0m\n",
      "Observation: \u001b[36;1m\u001b[1;3m[{'title': 'February 25, 2024 - Russia-Ukraine news', 'link': 'https://www.cnn.com/europe/live-news/russia-ukraine-war-news-02-25-24/index.html', 'source': 'CNN', 'date': '1 hour ago', 'thumbnail': 'https://serpapi.com/searches/65dc299ae4a23dd45883599e/images/9396a269991eb5fa9de4f26785cede80c2a98a9418f5fdc0.jpeg', 'live': True}, {'title': \"Ukraine-Russia war latest: Ukraine advises civilians to avoid using Crimean bridge; Navalny 'died from a blood clot ...\", 'link': 'https://news.sky.com/story/ukraine-russia-war-latest-putin-sky-news-blog-live-12541713', 'source': 'Sky News', 'date': '7 hours ago', 'thumbnail': 'https://serpapi.com/searches/65dc299ae4a23dd45883599e/images/9396a269991eb5faa503fc9735017511c70e5f217bbe698b.jpeg'}, {'title': 'Russia-Ukraine war: List of key events, day 716', 'link': 'https://www.aljazeera.com/news/2024/2/9/russia-ukraine-war-list-of-key-events-day-716', 'source': 'Al Jazeera', 'date': '2 weeks ago', 'thumbnail': 'https://serpapi.com/searches/65dc299ae4a23dd45883599e/images/9396a269991eb5fa4b03b172637d2ac8a7750a6c631177b2.jpeg'}, {'title': 'February 21, 2024 - Russia-Ukraine news', 'link': 'https://www.cnn.com/europe/live-news/russia-ukraine-war-news-02-21-24/index.html', 'source': 'CNN', 'date': '4 days ago', 'thumbnail': 'https://serpapi.com/searches/65dc299ae4a23dd45883599e/images/9396a269991eb5fa03471c01cea38a37e85e242e2ec8d0d7.jpeg'}]\u001b[0m\n",
      "Thought:\u001b[32;1m\u001b[1;3m It seems that tensions between Ukraine and Russia are still high and there have been recent developments, such as Ukraine advising civilians to avoid using the Crimean bridge and the death of Russian opposition leader Alexei Navalny. It is important to continue monitoring the situation.\n",
      "Final Answer: The conflict between Ukraine and Russia is ongoing and has resulted in thousands of casualties. Tensions remain high and it is important to stay updated on the latest developments.\u001b[0m\n",
      "\n",
      "\u001b[1m> Finished chain.\u001b[0m\n"
     ]
    }
   ],
   "source": [
    "response = agent({\"input\":\"What is ukrain and russia conflict?\"})"
   ]
  },
  {
   "cell_type": "markdown",
   "metadata": {},
   "source": [
    "# Different Use Cases of LangChain"
   ]
  },
  {
   "cell_type": "markdown",
   "metadata": {},
   "source": [
    "- Summarization - Express the most important facts about a body of text or chat interaction\n",
    "- Question and Answering Over Documents - Use information held within documents to answer questions or query\n",
    "- Extraction - Pull structured data from a body of text or an user query\n",
    "- Evaluation - Understand the quality of output from your application\n",
    "- Querying Tabular Data - Pull data from databases or other tabular source\n",
    "- Code Understanding - Reason about and digest code\n",
    "- Interacting with APIs - Query APIs and interact with the outside world\n",
    "- Chatbots - A framework to have a back and forth interaction with a user combined with memory in a chat interface\n",
    "- Agents - Use LLMs to make decisions about what to do next. Enable these decisions with tools."
   ]
  },
  {
   "cell_type": "markdown",
   "metadata": {},
   "source": [
    "## Summaries Of Longer Text\n"
   ]
  },
  {
   "cell_type": "code",
   "execution_count": 13,
   "metadata": {},
   "outputs": [],
   "source": [
    "from langchain.llms import OpenAI\n",
    "from langchain.chains.summarize import load_summarize_chain\n",
    "from langchain.text_splitter import RecursiveCharacterTextSplitter\n",
    "\n",
    "llm = OpenAI(temperature=0, openai_api_key=os.getenv(\"OPENAI_API_KEY\"))"
   ]
  },
  {
   "cell_type": "code",
   "execution_count": 15,
   "metadata": {},
   "outputs": [],
   "source": [
    "with open('./the_spring.txt', 'r') as file:\n",
    "    text = file.read()"
   ]
  },
  {
   "cell_type": "code",
   "execution_count": 16,
   "metadata": {},
   "outputs": [
    {
     "name": "stdout",
     "output_type": "stream",
     "text": [
      "There are 8527 tokens in your file\n"
     ]
    }
   ],
   "source": [
    "num_tokens = llm.get_num_tokens(text)\n",
    "\n",
    "print (f\"There are {num_tokens} tokens in your file\")"
   ]
  },
  {
   "cell_type": "code",
   "execution_count": 27,
   "metadata": {},
   "outputs": [
    {
     "name": "stdout",
     "output_type": "stream",
     "text": [
      "You now have 7 docs intead of 1 piece of text\n"
     ]
    }
   ],
   "source": [
    "text_splitter = RecursiveCharacterTextSplitter(separators=[\"\\n\\n\"], chunk_size=2000, chunk_overlap=500)\n",
    "docs = text_splitter.create_documents([text])\n",
    "\n",
    "print (f\"You now have {len(docs)} docs intead of 1 piece of text\")"
   ]
  },
  {
   "cell_type": "code",
   "execution_count": 28,
   "metadata": {},
   "outputs": [],
   "source": [
    "chain = load_summarize_chain(llm=llm, chain_type='map_reduce',verbose=True ) # verbose=True optional to see what is getting sent to the LLM\n"
   ]
  },
  {
   "cell_type": "code",
   "execution_count": 29,
   "metadata": {},
   "outputs": [
    {
     "name": "stdout",
     "output_type": "stream",
     "text": [
      "\n",
      "\n",
      "\u001b[1m> Entering new MapReduceDocumentsChain chain...\u001b[0m\n",
      "\n",
      "\n",
      "\u001b[1m> Entering new LLMChain chain...\u001b[0m\n",
      "Prompt after formatting:\n",
      "\u001b[32;1m\u001b[1;3mWrite a concise summary of the following:\n",
      "\n",
      "\n",
      "\"The air of Kandor held the sharpness of new spring when Lan returned to the lands where he had always known he would die. Trees bore the first red of new growth, and a few scattered wildflowers dotted winter-brown grass where shadows did not cling to patches of snow, yet the pale sun offered little\n",
      "warmth after the south, a gusting breeze cut through his coat, and grey clouds hinted at more than rain. He was almost home. Almost.\n",
      "A hundred generations had beaten the wide road nearly as hard as the stone of the surrounding hills, and little dust rose, though a steady stream of ox-carts was leaving the morning farmers' markets in Canluum and merchant trains of tall wagons, surrounded by mounted guards in steel caps and bits of armour, flowed towards the city's high grey walls. Here and there the chains of the Kandori merchants' guild spanned a chest or an Arafellin wore bells, a ruby decorated this man's ear, a pearl brooch that woman's breast, but for the most part the traders' clothes were as subdued as their manner. A merchant who flaunted too much profit discovered it hard to find bargains. By contrast, farmers showed off their success when they came to town. Bright embroidery decorated the striding countrymen's baggy breeches, the women's wide trousers, their cloaks fluttering in the wind. Some wore coloured ribbons in their hair, or a narrow fur collar. They might have been dressed for the coming Bel Tine dances and feasting. Yet country folk eyed strangers as warily as any guard, eyed them and hefted spears or axes and hurried along. The times carried an edge in Kandor, maybe all along the Borderlands. Bandits had sprung up like weeds this past year, and more troubles than usual out of the Blight. Rumour even spoke of a man who channelled the One Power, but then, rumour often did.\n",
      "Leading his horse toward Canluum, Lan paid as little attention to the stares he and his companion attracted as he did to Bukama's scowls and carping. Bukama had raised him from the cradle, Bukama and other men now dead, and he could not recall seeing anything but a glower on that weathered face, even when Bukama spoke praise. This time his mutters were for a stone-bruised hoof that had him afoot, but he could always find something.\n",
      "They did attract attention, two very tall men walking their mounts and a packhorse with a pair of tattered wicker hampers, their plain clothes worn and travel-stained. Their harness and weapons were well-tended, though. A young man and an old, hair hanging to their shoulders and held back by a braided leather cord around the temples. The hadori drew eyes. Especially here in the Borderlands, where people had some idea what it meant.\n",
      "`Fools,' Bukama grumbled. `Do they think we're bandits? Do they think we mean to rob the lot of them, at midday on the high road?' He glared and shifted the sword at his hip in a way that brought considering stares from a number of merchants' guards. A stout farmer prodded his ox wide of them.\n",
      "Lan kept silent. A certain reputation clung to Malkieri who still wore the hadori, though not for banditry, but reminding Bukama would only send him into a black humour for days. His mutters shifted to the chances of a decent bed that night, of a decent meal before. Bukama seldom complained when there actually was no bed or no food, only about prospects and the inconsequential. He expected little, and trusted to less.\n",
      "Neither food nor lodging entered Lan's thoughts, despite the distance they had travelled. His head kept swinging north. He remained aware of everyone around him, especially those who glanced his way more than once, aware of the jingle of harness and the creak of saddles, the clop of hooves, the snap of wagon-canvas loose on its hoops. Any sound out of place would shout at him. That had been the first lesson Bukama and his friends had imparted in his childhood; be aware of everything, even when asleep. Only the dead could afford oblivion. Lan remained aware, but the Blight lay north. Still miles away across the hills, yet he could feel it, feel the twisted corruption.\n",
      "Just his imagination, but no less real for that. It had pulled at him in the south, in Cairhien and Andor, even in Tear, almost five hundred leagues distant. Two years away from the Borderlands, his personal war abandoned for another, and every day the tug grew stronger. The Blight meant death to most men. Death and the Shadow, a rotting land tainted by the Dark One's breath, where anything at all could kill. Two tosses of a coin had decided where to begin anew. Four nations bordered the Blight, but his war covered the length of it, from the Aryth Ocean to the Spine of the World. One place to meet death was as good as another. He was almost home. Almost back to the Blight.\n",
      "A dry moat surrounded Canluum's wall, fifty paces wide and ten deep, spanned by five broad stone bridges with towers at either end as tall as those that lined the wall itself. Raids out of the Blight by Trollocs and Myrddraal often struck much deeper into Kandor than Canluum, but none had ever made it inside the city's\n",
      " \n",
      "wall. The Red Stag waved above every tower. A proud man, was Lord Varan, the High Seat of House Marcasiev; Queen Ethenielle did not fly so many of her own banners even in Chachin itself.\n",
      "The guards at the outer towers, in helmets with Varan's antlered crest and the Red Stag on their chests, peered into the backs of wagons before allowing them to trundle on to the bridge, or occasionally motioned someone to push a hood further back. No more than a gesture was necessary; the law in every Borderland forbade hiding your face inside village or town, and no one wanted to be mistaken for one of the Eyeless trying to sneak into the city. Hard gazes followed Lan and Bukama on to the bridge. Their faces were clearly visible. And their hadori. No recognition lit any of those watching eyes, though. Two years was a long time in the Borderlands. A great many men could die in two years.\n",
      "Lan noticed that Bukama had gone silent, always a bad sign, and cautioned him. 'I never start trouble,' the older man snapped, but he did stop fingering his swordhilt.\n",
      "The guards on the wall above the open iron-plated gates and those on the bridge wore only back- and breastplates for armour, yet they were no less watchful, especially of a pair of Malkieri with their hair tied back. Bukama's mouth grew tighter at every step.\n",
      "'Al'Lan Mandragoran! The Light preserve us, we heard you were dead fighting the Aiel at the Shining Walls!' The exclamation came from a young guard, taller than the rest, almost as tall as Lan. Young, perhaps a year or two less than he, yet the gap seemed ten years. A lifetime. The guard bowed deeply, left hand on his knee. 'Tai'shar Malkier!' True blood of Malkier. 'I stand ready, Majesty.'\n",
      "'I am not a king,' Lan said quietly. Malkier was dead. Only the war still lived. In him, at least.\n",
      "Bukama was not quiet. 'You stand ready for what, boy?' The heel of his bare hand struck the guard's breastplate right over the Red Stag, driving the man upright and back a step. 'You cut your hair short and leave it unbound!' Bukama spat the words. 'You're sworn to a Kandori lord! By what right do you claim to be Malkieri?'\n",
      "The young man's face reddened as he floundered for answers. Other guards started towards the pair, then halted when Lan let his reins fall. Only that, but they knew his name, now. They eyed his bay stallion, standing still and alert behind him, almost as cautiously as they did him. A warhorse was a formidable weapon, and they could not know Cat Dancer was only half-trained yet.\n",
      "Space opened up as people already through the gates hurried a little distance before turning to watch, while those still on the bridge pressed back. Shouts rose in both directions from people wanting to know what was holding traffic. Bukama ignored it all, intent on the red-faced guard. He had not dropped the reins of the packhorse or his yellow roan gelding.\n",
      "An officer appeared from the stone guardhouse inside the gates, crested helmet under his arm, but one hand in a steel-backed gauntlet resting on his swordhilt. A bluff, greying man with white scars on his face, Alin Seroku had soldiered forty years along the Blight, yet his eyes widened slightly at the sight of Lan. Plainly he had heard the tales of Lan's death, too.\n",
      "'The Light shine upon you, Lord Mandragoran. The son of el'Leanna and al'Akir, blessed be their memories, is always welcome.' Seroku's eyes flickered towards Bukama, not in welcome. He planted his feet in the middle of the gateway. Five horsemen could have passed easily on either side, but he meant himself for a bar, and he was. None of the guards shifted a boot, yet every one had hand on swordhilt. All but the young man meeting Bukama's glares with his own. 'Lord Marcasiev has commanded us to keep the peace strictly,' Seroku went on, half in apology. But no more than half. 'The city is on edge. All these tales of a man channelling are bad enough, but there have been murders in the street this last month and more, in broad daylight, and strange accidents. People whisper about Shadowspawn loose inside the walls.'\n",
      "Lan gave a slight nod. With the Blight so close, people always muttered of Shadowspawn when they had no other explanation, whether for a sudden death or unexpected crop failure. He did not take up Cat Dancer's reins, though. 'We intend to rest here a few days before riding north.'\n",
      "For a moment he thought Seroku was surprised. Did the man expect pledges to keep the peace, or apologies for Bukama's behaviour? Either would shame Bukama, now. A pity if the war ended here. Lan did not want to die killing Kandori.\n",
      "His old friend turned from the young guard, who stood quivering, fists clenched at his sides. 'All fault here is mine,' Bukama announced to the air in a flat voice. 'I had no call for what I did. By my mother's name, I will keep Lord Marcasiev's peace. By my mother's name, I will not draw sword inside Canluum's walls.'\"\n",
      "\n",
      "\n",
      "CONCISE SUMMARY:\u001b[0m\n",
      "Prompt after formatting:\n",
      "\u001b[32;1m\u001b[1;3mWrite a concise summary of the following:\n",
      "\n",
      "\n",
      "\"\n",
      "\n",
      "Seroku's jaw dropped, and Lan hid his own shock with difficulty.\n",
      "Hesitating only a moment, the scar-faced officer stepped aside, bowing and touching swordhilt then\n",
      "heart. 'There is always welcome for Lan Mandragoran Dai Shan,' he said formally. 'And for Bukama Marenellin, the hero of Salmarna. May you both know peace, one day.'\n",
      "'There is peace in the mother's last embrace,' Lan responded with equal formality, touching hilt and heart.\n",
      "'May she welcome us home, one day,' Seroku finished. No one really wished for the grave, but that was the only place to find peace in the Borderlands.\n",
      "Face like iron, Bukama strode ahead pulling Sun Lance and the packhorse after him, not waiting for Lan. This was not well.\n",
      "Canluum was a city of stone and brick, its paved streets twisting around tall hills. The Aiel invasion had never reached the Borderlands, but the ripples of war always diminished trade a long way from any battles, and now that fighting and winter were both finished, the city had filled with people from every land. Despite the Blight practically on the city's doorstep, gemstones mined in the surrounding hills made Canluum wealthy. And, strangely enough, some of the finest clockmakers anywhere. The cries of hawkers and shopkeepers shouting their wares rose above the hum of the crowd even away from the terraced market squares. Colourfully-dressed musicians, or jugglers, or tumblers performed at every intersection. A handful of lacquered carriages swayed through the mass of people and wagons and carts and barrows, and horses with gold- or silver-mounted saddles and bridles picked their way through the throng, their riders' garb embroidered as ornately as the animals' tack and trimmed with fox or marten or ermine. Hardly a foot of street was left bare anywhere. Lan even saw several Aes Sedai, women with serene, ageless faces. Enough people recognized them on sight that they created eddies in the crowd, swirls to clear a way. Respect or caution, awe or fear, there were sufficient reasons for a king to step aside for a sister. Once you might have gone a year without seeing an Aes Sedai even in the Borderlands, but the sisters seemed to be everywhere since their old Amyrlin Seat died a few months earlier. Maybe it was those tales of a man channelling; they would not let him run free long, if he existed. Lan kept his eyes away from them. The hadori could be enough to attract the interest of a sister seeking a Warder.\n",
      "Shockingly, lace veils covered many women's faces. Thin lace, sheer enough to reveal that they had eyes, and no one had ever heard of a female Myrddraal, but Lan had never expected law to yield to mere fashion. Next they would take down the oil-lamps lining the streets and let the nights grow black. Even more shocking than the veils, Bukama looked right at some of those women and did not open his mouth. Then a jut- nosed man named Nazar Kurenin rode in front of Bukama's eyes, and he did not blink. The young guard surely had been born after the Blight swallowed Malkier, but Kurenin, his hair cut short and wearing a forked beard, was twice Lan's age. The years had not erased the marks of his hadori completely. There were many like Kurenin, and the sight of him should have set Bukama spluttering. Lan eyed his friend worriedly.\n",
      "They had been moving steadily towards the centre of the city, climbing towards the highest hill, Stag's Stand. Lord Marcasiev's fortress-like palace covered the peak, with those of lesser lords and ladies on the terraces below. Any threshold up there offered warm welcome for al'Lan Mandragoran. Perhaps warmer than he wanted now. Balls and hunts, with nobles invited from as much as fifty miles away, including from across the border with Arafel. People avid to hear of his 'adventures'. Young men wanting to join his forays into the Blight, and old men to compare their experiences there with his. Women eager to share the bed of a man whom, so fool stories claimed, the Blight could not kill. Kandor and Arafel were as bad as any southland at times; some of those women would be married. And there would be men like Kurenin, working to submerge memories of lost Malkier, and women who no longer adorned their foreheads with the ki'sain in pledge that they would swear their sons to oppose the Shadow while they breathed. Lan could ignore the false smiles while they named him al'Lan Dai Shan, diademed battle lord and uncrowned king of a nation betrayed while he was in his cradle. In his present mood, Bukama might do murder. Or worse, given his oaths at the gate. He would keep those to the death.\n",
      "'Varan Marcasiev will hold us a week or more with ceremony,' Lan said, turning down a narrower street that led away from the Stand. 'With what we've heard of bandits and the like, he will be just as happy if I don't appear to make my bows.' True enough. He had met the High Seat of House Marcasiev only once, years past, but he remembered a man given entirely to his duties.\n",
      "Bukama followed without complaint about missing a palace bed or the feasts the cooks would prepare. It\"\n",
      "\n",
      "\n",
      "CONCISE SUMMARY:\u001b[0m\n",
      "Prompt after formatting:\n",
      "\u001b[32;1m\u001b[1;3mWrite a concise summary of the following:\n",
      "\n",
      "\n",
      "\"\n",
      "\n",
      "was worrying.\n",
      "No palaces rose in the hollows towards the north wall, only shops and taverns, inns and stables and\n",
      "wagonyards. Bustle surrounded the factors' long warehouses, but no carriages came to the Deeps, and most streets were barely wide enough for carts. They were just as jammed with people as the wide ways, though, and every bit as noisy. Here, the street performers' finery was tarnished, yet they made up for it by being louder, and buyers and sellers alike bellowed as if trying to be heard in the next street. Likely some of the crowd were cutpurses, slipfingers, and other thieves, finished with a morning's business higher up or headed there for the afternoon. It would have been a wonder otherwise, with so many merchants in town. The second time unseen fingers brushed his coat in the crowd, Lan tucked his purse under his shirt. Any banker would advance him more against the Shienaran estate he had been granted on reaching manhood, but loss of the gold on hand meant accepting the hospitality of Stag's Stand.\n",
      "At the first three inns they tried, slate-roofed cubes of grey stone with bright signs out front, the innkeepers had not a cubbyhole to offer. Lesser traders and merchants' guards filled them to the attics. Bukama began to mutter about making a bed in a hayloft, yet he never mentioned the feather mattresses and linens waiting on the Stand. Leaving their horses with ostlers at a fourth inn, The Blue Rose, Lan entered determined to find some place for them if it took the rest of the day.\n",
      "Inside, a greying woman, tall and handsome, presided over a crowded common room where talk and laughter almost drowned out the slender girl singing to the music of her zither. Pipesmoke wreathed the ceiling beams, and the smell of roasting lamb floated from the kitchens. As soon as the innkeeper saw Lan and Bukama, she gave her blue-striped apron a twitch and strode towards them, dark eyes sharp.\n",
      "Before Lan could open his mouth, she seized Bukama's ears, pulled his head down, and kissed him. Kandori women were seldom retiring, but even so it was a remarkably thorough kiss in front of so many eyes. Pointing fingers and snickering grins flashed among the tables.\n",
      "'It's good to see you again, too, Racelle,' Bukama murmured with a small smile when she finally released him. 'I didn't know you had an inn here. Do you think -?' He lowered his gaze rather than meeting her eyes rudely, and that proved a mistake. Racelle's fist caught his jaw so hard that his hair flailed as he staggered.\n",
      "'Six years without a word,' she snapped. 'Six years?' Grabbing his ears again, she gave him another kiss, longer this time. Took it rather than gave. A sharp twist of his ears met every attempt to do anything besides standing bent over and letting her do as she wished. At least she would not put a knife in his heart if she was kissing him. Perhaps not.\n",
      "'I think Mistress Arovni might find Bukama a room somewhere,' a man's familiar voice said drily behind Lan. 'And you, too, I suppose.'\n",
      "Turning, Lan clasped forearms with the only man in the room beside Bukama of a height with him, Ryne Venamar, his oldest friend except for Bukama. The innkeeper still had Bukama occupied as Ryne led Lan to a small table in the corner. Five years older, Ryne was Malkieri too, but his hair fell in two long bell-laced braids, and more silver bells lined the turned-down tops of his boots and ran up the sleeves of his yellow coat. Bukama did not exactly dislike Ryne - not exactly - yet in his present mood, only Nazar Kurenin could have had a worse effect.\n",
      "While the pair of them were settling themselves on benches, a serving maid in a striped apron brought hot spiced wine. Apparently Ryne had ordered as soon as he saw Lan. Dark-eyed and full-lipped, she stared Lan up and down openly as she set his mug in front of him, then whispered her name, Lira, in his ear, and an invitation, if he was staying the night. All he wanted that night was sleep, so he lowered his gaze, murmuring that she honoured him too much. Lira did not let him finish. With a raucous laugh, she bent to bite his ear, hard, then announced that by tomorrow's sun she would have honoured him till his knees would not hold him up. More laughter flared at the tables around them.\n",
      "Ryne forestalled any possibility of righting matters, tossing her a fat coin and giving her a slap on the bottom to send her off. Lira offered him a dimpled smile as she slipped the silver into the neck of her dress, but she left sending smoky glances over her shoulder at Lan that made him sigh. If he tried to say no now, she might well pull a knife over the insult.\n",
      "'So your luck still holds with women, too.' Ryne's laugh had an edge. Perhaps he fancied her himself. 'The Light knows, they can't find you handsome; you get uglier every year. Maybe I ought to try some of that coy modesty, let women lead me by the nose.'\"\n",
      "\n",
      "\n",
      "CONCISE SUMMARY:\u001b[0m\n",
      "Prompt after formatting:\n",
      "\u001b[32;1m\u001b[1;3mWrite a concise summary of the following:\n",
      "\n",
      "\n",
      "\"\n",
      "\n",
      "Lan opened his mouth, then took a drink instead of speaking. He should not have to explain, but Ryne's father had taken him to Arafel the year Lan turned ten. The man wore a single blade on his hip instead of two on his back, yet he was Arafellin to his toenails. He actually started conversations with women who had not spoken to him first. Lan, raised by Bukama and his friends in Shienar, had been surrounded by a small community who held to Malkieri ways.\n",
      "A number of people around the room were watching their table, sidelong glances over mugs and goblets. A plump copper-skinned woman wearing a much thicker dress than Domani women usually did made no effort to hide her stares as she spoke excitedly to a fellow with curled moustaches and a large pearl in his ear. Probably wondering whether there would be trouble over Lira. Wondering whether a man wearing the hadori really would kill at the drop of a pin.\n",
      "'I didn't expect to find you in Canluum,' Lan said, setting the wine-mug down. 'Guarding a merchant train?' Bukama and the innkeeper were nowhere to be seen.\n",
      "Ryne shrugged. 'Out of Shol Arbela. The luckiest trader in Arafel, they say. Said. Much good it did him. We arrived yesterday, and last night footpads slit his throat two streets over. No return money for me this trip.' He flashed a rueful grin and took a deep pull at his wine, perhaps to the memory of the merchant or perhaps to the lost half of his wages. 'Burn me if I thought to see you here, either.'\n",
      "'You shouldn't listen to rumours, Ryne. I've not taken a wound worth mentioning since I rode south.' Lan decided to twit Bukama if they did get a room, about whether it was already paid for and how. Indignation might take him out of his darkness.\n",
      "'The Aiel,' Ryne snorted. 'I never thought they could put paid to you.' He had never faced Aiel, of course. 'I expected you to be wherever Edeyn Arrel is. Chachin, now, I hear.'\n",
      "That name snapped Lan's head back to the man across the table. 'Why should I be near the Lady Arrel?' he demanded softly. Softly, but emphasizing her proper title.\n",
      "'Easy, man,' Ryne said. 'I didn't mean . . .'Wisely, he abandoned that line. 'Burn me, do you mean to say you haven't heard? She's raised the Golden Crane. In your name, of course. Since the year turned, she's been from Fal Moran to Maradon, and coming back now.' Ryne shook his head, the bells in his braids chiming faintly. 'There must be two or three hundred men right here in Canluum ready to follow her. You, I mean. Some you'd not believe. Old Kurenin wept when he heard her speak. All ready to carve Malkier out of the Blight again.'\n",
      "'What dies in the Blight is gone,' Lan said wearily: He felt more than cold inside. Suddenly Seroku's surprise that he intended to ride north took on new meaning, and the young guard's assertion that he stood ready. Even the looks here in the common room seemed different. And Edeyn was part of it. Always she liked standing in the heart of the storm. 'I must see to my horse,' he told Ryne, scraping his bench back.\n",
      "Ryne said something about making a round of the taverns that night, but Lan hardly heard. He hurried through the kitchens, hot from iron stoves and stone ovens and open hearths, into the cool of the stableyard, the mingled smells of horse and hay and woodsmoke. A greylark warbled on the edge of the stable roof. Greylarks came even before robins in the spring. Greylarks had been singing in Fal Moran when Edeyn first whispered in his ear.\n",
      "The horses had already been stabled, bridles and saddles and packsaddle atop saddle blankets on the stall doors, but the wicker hampers were gone. Plainly Mistress Arovni had sent word to the ostlers that he and Bukama were being given accommodation.\n",
      "There was only a single groom in the dim stable, a lean, hardfaced woman mucking out. Silently she watched him check Cat Dancer and the other horses as she worked, watched him begin to pace the length of the strawcovered floor. He tried to think, but Edeyn's name kept spinning though his head. Edeyn's face, surrounded by silky black hair that hung below her waist, a beautiful face with large dark eyes that could drink a man's soul even when filled with command.\n",
      "After a bit the groom mumbled something in his direction, touching her lips and forehead, and hurriedly shoved her half-filled barrow out of the stable, glancing over her shoulder at him. She paused to shut the doors, and did that hurriedly, too, sealing him in shadow broken only by a little light from open hay doors in the loft. Dust motes danced in the pale golden shafts.\n",
      "Lan grimaced. Was she that afraid of a man wearing the hadori? Did she think his pacing a threat? Abruptly he became aware of his hands running over the long hilt of his sword, aware of the tightness in his\"\n",
      "\n",
      "\n",
      "CONCISE SUMMARY:\u001b[0m\n",
      "Prompt after formatting:\n",
      "\u001b[32;1m\u001b[1;3mWrite a concise summary of the following:\n",
      "\n",
      "\n",
      "\"\n",
      "\n",
      "own face. Pacing? No, he had been in the walking stance called Leopard in High Grass, used when there were enemies on all sides. He needed calm.\n",
      "Seating himself crosslegged on a bale of straw, he formed the image of a flame in his mind and fed emotion into it, hate, fear, everything, every scrap, until it seemed that he floated in emptiness. After years of practice, achieving ko'di, the oneness, needed less than a heartbeat. Thought and even his own body seemed distant, but in this state he was more aware than usual, becoming one with the bale beneath him, the stable, the scabbarded sword folded behind him. He could 'feel' the horses, cropping at their mangers, and flies buzzing in the corners. They were all part of him. Especially the sword. This time, though, it was only the emotionless void that he sought.\n",
      "From his beltpouch he took a heavy gold signet ring worked with a flying crane and turned it over and over in his fingers. The ring of Malkieri kings, worn by men who had held back the Shadow nine hundred years and more. Countless times it had been remade as time wore it down, always the old ring melted to become part of the new. Some particle might still exist in it of the ring worn by the rulers of Rhamdashar, that had lived before Malkier, and Aramaelle that had been before Rhamdashar. That piece of metal represented over three thousand years fighting the Blight. It had been his almost as long as he had lived, but he had never worn it. Even looking at the ring was a labour, usually. One he disciplined himself to every day. Without the emptiness, he did not think he could have done so today. In ko'di, thought floated free, and emotion lay beyond the horizon.\n",
      "In his cradle he had been given four gifts. The ring in his hands and the locket that hung around his neck, the sword on his hip and an oath sworn in his name. The locket was the most precious, the oath the heaviest. 'To stand against the Shadow so long as iron is hard and stone abides. To defend the Malkieri while one drop of blood remains. To avenge what cannot be defended.' And then he had been anointed with oil and named Dai Shan, consecrated as the next King of Malkier, and sent away from a land that knew it would die. Twenty men began that journey; five survived to reach Shienar.\n",
      "Nothing remained to be defended now, only a nation to avenge, and he had been trained to that from his first step. With his mother's gift at his throat and his father's sword in his hand, with the ring branded on his heart, he had fought to avenge Malkier from his sixteenth nameday. But never had he led men into the Blight. Bukama had ridden with him, and others, but he would not lead men there. That war was his alone. The dead could not be returned to life, a land any more than a man. Only, now, Edeyn Arrel wanted to try.\n",
      "Her name echoed in the emptiness within him. A hundred emotions loomed like stark mountains, but he fed them into the flame until all was still. Until his heart beat time with the slow stamping of the stalled horses, and the flies' wings beat rapid counterpoint to his breath. She was his carneira, his first lover. A thousand years of tradition shouted that, despite the stillness that enveloped him.\n",
      "He had been fifteen, Edeyn more than twice that, when she gathered the hair that had still hung to his waist in her hands and whispered her intentions. Women had still called him beautiful then, enjoying his blushes, and for half a year she had enjoyed parading him on her arm and tucking him into her bed. Until Bukama and the other men gave him the hadori. The gift of his sword on his tenth nameday had made him a man by custom along the Border, though years early for it, yet among Malkieri, that band of braided leather had been more important. Once that was tied around his head, he alone decided where he went, and when, and why. And the dark song of the Blight had become a howl that drowned every other sound. The oath that had murmured so long in his heart became a dance his feet had to follow.\n",
      "Almost ten years past now that Edeyn had watched him ride away from Fal Moran, and been gone when he returned, yet he still could recall her face more clearly than that of any woman who had shared his bed since. He was no longer a boy, to think that she loved him just because she had chosen to become his first lover, yet there was an old saying among Malkieri men. Your carneira wears part of your soul as a ribbon in her hair for ever. Custom strong as law made it so.\n",
      "One of the stable doors creaked open to admit Bukama, coatless, shirt tucked raggedly into his breeches. He looked naked without his sword. As if hesitant, he carefully opened both doors wide before coming all the way in. 'What are you going to do?' he said finally. 'Racelle told me about . . . about the Golden Crane.'\n",
      "Lan tucked the ring away, letting emptiness drain from him. Edeyn's face suddenly seemed everywhere, just beyond the edge of sight. 'Ryne says even Nazar Kurenin is ready to follow,' he said lightly. 'Wouldn't that be a sight to see?' An army could die trying to defeat the Blight. Armies had died trying. But the memories of Malkier already were dying. A nation was memory as much as land. 'That boy at the gates might let his hair\"\n",
      "\n",
      "\n",
      "CONCISE SUMMARY:\u001b[0m\n",
      "Prompt after formatting:\n",
      "\u001b[32;1m\u001b[1;3mWrite a concise summary of the following:\n",
      "\n",
      "\n",
      "\"\n",
      "\n",
      "grow and ask his father for the hadori.' People were forgetting, trying to forget. When the last man who bound his hair was gone, the last woman who painted her forehead, would Malkier truly be gone, too? 'Why, Ryne might even get rid of those braids.' Any trace of mirth dropped from his voice as he added, 'But is it worth the cost? Some seem to think so.' Bukama snorted, yet there had been a pause. He might be one of those who did.\n",
      "Striding to the stall that held Sun Lance, the older man began to fiddle with his roan's saddle as though suddenly forgetting why he had moved. 'There's always a cost for anything,' he said, not looking up. 'But there are costs, and costs. The Lady Edeyn. . .' He glanced at Lan, then turned to face him. 'She was always one to demand every right and require the smallest obligation be met. Custom ties strings to you, and whatever you choose, she will use them like a set of reins unless you find a way to avoid it.'\n",
      "Carefully Lan tucked his thumbs behind his swordbelt. Bukama had carried him out of Malkier tied to his back. The last of the five. Bukama had the right of a free tongue even when it touched Lan's carneira. 'How do you suggest I avoid my obligations without shame?' he asked more harshly than he had intended. Taking a deep breath, he went on in a milder tone. 'Come; the common room smells much better than this. Ryne suggested a round of the taverns tonight. Unless Mistress Arovni has claims on you. Oh, yes. How much will our rooms cost? Good rooms? Not too dear, I hope.'\n",
      "Bukama joined him on the way to the doors, his face going red. 'Not too dear,' he said hastily. 'You have a pallet in the attic, and I . . . ah . . . I'm in Racelle's rooms. I'd like to make a round, but I think Racelle . . . I don't think she means to let me . . . I . . . Young whelp!' he growled. 'There's a lass named Lira in there who's letting it be known you won't be using that pallet tonight, or getting much sleep, so don't think you can -!' He cut off as they walked into the sunlight, bright after the dimness inside. The greylark still sang of spring.\n",
      "Six men were striding across the otherwise empty yard. Six ordinary men with swords at their belts, like any men on any street in the city. Yet Lan knew before their hands moved, before their eyes focused on him and their steps quickened. He had faced too many men who wanted to kill him not to know. And at his side stood Bukama, bound by oaths that would not let him raise a hand even had he been wearing his blade. If they both tried to get back inside the stable, the men would be on them before they could haul the doors shut. Time slowed, flowed like cool honey.\n",
      "'Inside and bar the doors!' Lan snapped as his hand went to his hilt. 'Obey me, armsman!'\n",
      "Never in his life had he given Bukama a command in that fashion, and the man hesitated a heartbeat, then bowed formally. 'My life is yours, Dai Shan,' he said in a thick voice. 'I obey.'\n",
      "As Lan moved forward to meet his attackers, he heard the bar drop inside with a muffled thud. Relief was distant. He floated in ko'di, one with the sword that came smoothly out of its scabbard. One with the men rushing at him, boots thudding on the hard-packed ground as they bared steel.\n",
      "A lean heron of a fellow darted ahead of the others, and Lan danced the forms. Time like cool honey. The greylark sang, and the lean man shrieked as Cutting the Clouds removed his right hand at the wrist, and Lan flowed to one side so the rest could not all come at him together, flowed from form to form. Soft Rain at Sunset laid open a fat man's face, took his left eye, and a ginger-haired young splinter drew a gash across Lan's ribs with Black Pebbles on Snow. Only in stories did one man face six without injury. The Rose Unfolds sliced down a bald man's left arm, and ginger-hair nicked the corner of Lan's eye. Only in stories did one man face six and survive. He had known that from the start. Duty was a mountain, death a feather, and his duty was to Bukama, who had carried an infant on his back. For this moment he lived, though, so he fought, kicking ginger- hair in the head, dancing his way towards death, danced and took wounds, bled and danced the razor's edge of life. Time like cool honey, flowing from form to form, and there could only be one ending. Thought was distant. Death was a feather. Dandelion in the Wind slashed open the now one-eyed fat man's throat - he had barely paused when his face was ruined - a forkbearded fellow with shoulders like a blacksmith gasped in surprise as Kissing the Adder put Lan's steel through his heart.\n",
      "And suddenly Lan realized that he alone stood, with six men sprawled across the width of the stableyard. The ginger-haired youth thrashed his heels on the ground one last time, and then only Lan of the seven still breathed. He shook blood from his blade, bent to wipe the last drops off on the blacksmith's too-fine coat, sheathed his sword as formally as if he were in the training yard under Bukama's eye.\n",
      "Abruptly people flooded out of the inn, cooks and stablemen, maids and patrons shouting to know what all the noise was about, staring at the dead men in astonishment. Ryne was the very first, sword already in hand, his face blank as he came to stand by Lan. 'Six,' he muttered, studying the bodies. 'You really do have the Dark\"\n",
      "\n",
      "\n",
      "CONCISE SUMMARY:\u001b[0m\n",
      "Prompt after formatting:\n",
      "\u001b[32;1m\u001b[1;3mWrite a concise summary of the following:\n",
      "\n",
      "\n",
      "\"One's own flaming luck.'\n",
      "Dark-eyed Lira reached Lan only moments before Bukama, the pair of them gently parting slashes in his\n",
      "clothes to examine his injuries. She shivered delicately as each was revealed, but she discussed whether an Aes Sedai should be sent for to give Healing and how much stitching was needed in as calm a tone as Bukama, and disparagingly dismissed his hand on the needle in favour of her own. Mistress Arovni stalked about, holding her skirts up out of patches of bloody mud, glaring at the corpses littering her stableyard, complaining in a loud voice that gangs of footpads would never be wandering in daylight if the Watch was doing its job. The Domani woman who had stared at Lan inside agreed just as loudly, and for her pains received a sharp command from the innkeeper to fetch them, along with a shove to start her on her way. It was a measure of Mistress Arovni's shock that she treated one of her patrons so, a measure of everyone's shock that the Domani woman went running without complaint. The innkeeper began organizing men to drag the bodies out of sight, still going on about footpads.\"\n",
      "\n",
      "\n",
      "CONCISE SUMMARY:\u001b[0m\n",
      "\n",
      "\u001b[1m> Finished chain.\u001b[0m\n",
      "\n",
      "\n",
      "\u001b[1m> Entering new LLMChain chain...\u001b[0m\n",
      "Prompt after formatting:\n",
      "\u001b[32;1m\u001b[1;3mWrite a concise summary of the following:\n",
      "\n",
      "\n",
      "\" Lan returns to Kandor, where he knows he will eventually die. The land is in the midst of spring, but there is a sense of unease due to bandits and rumors of a man who can channel the One Power. Lan and his companion, Bukama, attract attention due to their tall stature and traditional Malkieri clothing. They enter the city of Canluum, where they are recognized by a guard and greeted with respect. However, Bukama causes a disturbance and they are stopped by a guard who is trying to maintain peace in the city. Lan plans to rest in Canluum before continuing his journey north towards the Blight.\n",
      "\n",
      "\n",
      "\n",
      "Lan and Seroku are welcomed by a scar-faced officer in Canluum, a wealthy city filled with people from different lands. They encounter Aes Sedai and women wearing lace veils, and Bukama remains silent despite his usual outspokenness. They head towards Stag's Stand, where Lan is highly regarded and sought after for his adventures. Lan and Bukama plan to avoid the palace and its ceremonies, as they have heard of bandits in the area.\n",
      "\n",
      "\n",
      "\n",
      "The main character, Lan, and his companion, Bukama, are searching for a place to stay in a crowded and noisy town. They encounter an old friend, Ryne, who helps them find a room at an inn. Lan is approached by a flirtatious serving maid, but he declines her advances.\n",
      "\n",
      "\n",
      "\n",
      "Lan meets an old friend, Ryne, in a tavern in Canluum. Ryne informs Lan that Edeyn Arrel has raised the Golden Crane in Lan's name and is gathering men to reclaim Malkier from the Blight. Lan is surprised and troubled by this news and goes to check on his horse in the stable. The stable groom is afraid of him and he becomes aware of his own tension and the tightness in his grip on his sword.\n",
      "\n",
      "\n",
      "\n",
      "A man sits in a meditative state, reflecting on his past and his duty to avenge his fallen nation. He is reminded of his first lover, who is now trying to lead an army into the dangerous Blight. His friend enters and asks about his plans, to which he responds with a light-hearted comment about the possibility of an army following him. The man reflects on the importance of memory and the dying memories of his nation.\n",
      "\n",
      "\n",
      "\n",
      "Lan and Bukama discuss the changing customs in Malkier and the potential consequences of abandoning traditional practices. They are interrupted by a group of men who attack them, but Lan is able to defeat all six of them. The inn's staff and patrons are shocked by the violence.\n",
      "\n",
      "\n",
      "Lira and Bukama tend to Lan's injuries while discussing whether to call an Aes Sedai for healing. Mistress Arovni complains about the lack of safety in the area and orders a Domani woman to fetch help. The innkeeper organizes men to remove the bodies and continues to complain about the presence of footpads.\"\n",
      "\n",
      "\n",
      "CONCISE SUMMARY:\u001b[0m\n",
      "\n",
      "\u001b[1m> Finished chain.\u001b[0m\n",
      "\n",
      "\u001b[1m> Finished chain.\u001b[0m\n"
     ]
    }
   ],
   "source": [
    "output = chain.run(docs)"
   ]
  },
  {
   "cell_type": "markdown",
   "metadata": {},
   "source": [
    "## Question & Answering Using Documents As Context"
   ]
  },
  {
   "cell_type": "markdown",
   "metadata": {},
   "source": [
    "In order to use LLMs for question and answer we must:\n",
    "\n",
    "- Pass the LLM relevant context it needs to answer a question\n",
    "- Pass it our question that we want answered"
   ]
  },
  {
   "cell_type": "markdown",
   "metadata": {},
   "source": [
    "\n",
    "### Simple Q&A Example\n",
    "Here let's review the convention of llm(your context + your question) = your answer"
   ]
  },
  {
   "cell_type": "code",
   "execution_count": 30,
   "metadata": {},
   "outputs": [],
   "source": [
    "from langchain.llms import OpenAI\n",
    "\n",
    "llm = OpenAI(temperature=0, openai_api_key=os.getenv(\"OPENAI_API_KEY\"))"
   ]
  },
  {
   "cell_type": "code",
   "execution_count": 41,
   "metadata": {},
   "outputs": [],
   "source": [
    "context = \"\"\"\n",
    "Three drinks- Coke, Limca or Either (Either Coke or Limca) are offered by a machine at the bus stop. But the machine has been wired up wrongly by the staff at the bus stand so that each button does not give what it claims. \n",
    "\"\"\"\n",
    "\n",
    "question = \"If each drink costs Rs 10, how much minimum money do you have to put into the machine to work out which button gives which selection?\""
   ]
  },
  {
   "cell_type": "code",
   "execution_count": 42,
   "metadata": {},
   "outputs": [],
   "source": [
    "output = llm(context + question)\n"
   ]
  },
  {
   "cell_type": "code",
   "execution_count": 44,
   "metadata": {},
   "outputs": [
    {
     "data": {
      "text/plain": [
       "'To work out which button gives which selection, you would need to put in a minimum of Rs 30 into the machine. This is because you would need to try all three buttons at least once to determine which one gives which drink. If you put in Rs 30, you can try each button once and still have Rs 10 left over to purchase the drink of your choice.'"
      ]
     },
     "execution_count": 44,
     "metadata": {},
     "output_type": "execute_result"
    }
   ],
   "source": [
    "output.strip()"
   ]
  },
  {
   "cell_type": "markdown",
   "metadata": {},
   "source": [
    "## Using Embeddings for QnA\n"
   ]
  },
  {
   "cell_type": "markdown",
   "metadata": {},
   "source": [
    "It's the process of splitting your text, embedding the chunks, putting the embeddings in a DB, and then querying them."
   ]
  },
  {
   "cell_type": "markdown",
   "metadata": {},
   "source": [
    "The goal is to select relevant chunks of our long text, but which chunks do we pull? The most popular method is to pull similar texts based off comparing vector embeddings."
   ]
  },
  {
   "cell_type": "code",
   "execution_count": 46,
   "metadata": {},
   "outputs": [],
   "source": [
    "from langchain import OpenAI\n",
    "from langchain.vectorstores import FAISS\n",
    "from langchain.chains import RetrievalQA\n",
    "from langchain.document_loaders import TextLoader\n",
    "from langchain.embeddings.openai import OpenAIEmbeddings"
   ]
  },
  {
   "cell_type": "code",
   "execution_count": 48,
   "metadata": {},
   "outputs": [],
   "source": [
    "llm = OpenAI(temperature=0, openai_api_key=os.getenv(\"OPENAI_API_KEY\"))\n",
    "loader = TextLoader('./the_spring.txt')\n",
    "doc = loader.load()"
   ]
  },
  {
   "cell_type": "code",
   "execution_count": 49,
   "metadata": {},
   "outputs": [],
   "source": [
    "text_splitter = RecursiveCharacterTextSplitter(chunk_size=3000, chunk_overlap=400)\n",
    "docs = text_splitter.split_documents(doc)"
   ]
  },
  {
   "cell_type": "code",
   "execution_count": 51,
   "metadata": {},
   "outputs": [
    {
     "data": {
      "text/plain": [
       "[Document(page_content=\"The air of Kandor held the sharpness of new spring when Lan returned to the lands where he had always known he would die. Trees bore the first red of new growth, and a few scattered wildflowers dotted winter-brown grass where shadows did not cling to patches of snow, yet the pale sun offered little\\nwarmth after the south, a gusting breeze cut through his coat, and grey clouds hinted at more than rain. He was almost home. Almost.\\nA hundred generations had beaten the wide road nearly as hard as the stone of the surrounding hills, and little dust rose, though a steady stream of ox-carts was leaving the morning farmers' markets in Canluum and merchant trains of tall wagons, surrounded by mounted guards in steel caps and bits of armour, flowed towards the city's high grey walls. Here and there the chains of the Kandori merchants' guild spanned a chest or an Arafellin wore bells, a ruby decorated this man's ear, a pearl brooch that woman's breast, but for the most part the traders' clothes were as subdued as their manner. A merchant who flaunted too much profit discovered it hard to find bargains. By contrast, farmers showed off their success when they came to town. Bright embroidery decorated the striding countrymen's baggy breeches, the women's wide trousers, their cloaks fluttering in the wind. Some wore coloured ribbons in their hair, or a narrow fur collar. They might have been dressed for the coming Bel Tine dances and feasting. Yet country folk eyed strangers as warily as any guard, eyed them and hefted spears or axes and hurried along. The times carried an edge in Kandor, maybe all along the Borderlands. Bandits had sprung up like weeds this past year, and more troubles than usual out of the Blight. Rumour even spoke of a man who channelled the One Power, but then, rumour often did.\\nLeading his horse toward Canluum, Lan paid as little attention to the stares he and his companion attracted as he did to Bukama's scowls and carping. Bukama had raised him from the cradle, Bukama and other men now dead, and he could not recall seeing anything but a glower on that weathered face, even when Bukama spoke praise. This time his mutters were for a stone-bruised hoof that had him afoot, but he could always find something.\\nThey did attract attention, two very tall men walking their mounts and a packhorse with a pair of tattered wicker hampers, their plain clothes worn and travel-stained. Their harness and weapons were well-tended, though. A young man and an old, hair hanging to their shoulders and held back by a braided leather cord around the temples. The hadori drew eyes. Especially here in the Borderlands, where people had some idea what it meant.\\n`Fools,' Bukama grumbled. `Do they think we're bandits? Do they think we mean to rob the lot of them, at midday on the high road?' He glared and shifted the sword at his hip in a way that brought considering stares from a number of merchants' guards. A stout farmer prodded his ox wide of them.\", metadata={'source': './the_spring.txt'}),\n",
       " Document(page_content=\"`Fools,' Bukama grumbled. `Do they think we're bandits? Do they think we mean to rob the lot of them, at midday on the high road?' He glared and shifted the sword at his hip in a way that brought considering stares from a number of merchants' guards. A stout farmer prodded his ox wide of them.\\nLan kept silent. A certain reputation clung to Malkieri who still wore the hadori, though not for banditry, but reminding Bukama would only send him into a black humour for days. His mutters shifted to the chances of a decent bed that night, of a decent meal before. Bukama seldom complained when there actually was no bed or no food, only about prospects and the inconsequential. He expected little, and trusted to less.\\nNeither food nor lodging entered Lan's thoughts, despite the distance they had travelled. His head kept swinging north. He remained aware of everyone around him, especially those who glanced his way more than once, aware of the jingle of harness and the creak of saddles, the clop of hooves, the snap of wagon-canvas loose on its hoops. Any sound out of place would shout at him. That had been the first lesson Bukama and his friends had imparted in his childhood; be aware of everything, even when asleep. Only the dead could afford oblivion. Lan remained aware, but the Blight lay north. Still miles away across the hills, yet he could feel it, feel the twisted corruption.\\nJust his imagination, but no less real for that. It had pulled at him in the south, in Cairhien and Andor, even in Tear, almost five hundred leagues distant. Two years away from the Borderlands, his personal war abandoned for another, and every day the tug grew stronger. The Blight meant death to most men. Death and the Shadow, a rotting land tainted by the Dark One's breath, where anything at all could kill. Two tosses of a coin had decided where to begin anew. Four nations bordered the Blight, but his war covered the length of it, from the Aryth Ocean to the Spine of the World. One place to meet death was as good as another. He was almost home. Almost back to the Blight.\\nA dry moat surrounded Canluum's wall, fifty paces wide and ten deep, spanned by five broad stone bridges with towers at either end as tall as those that lined the wall itself. Raids out of the Blight by Trollocs and Myrddraal often struck much deeper into Kandor than Canluum, but none had ever made it inside the city's\\n \\nwall. The Red Stag waved above every tower. A proud man, was Lord Varan, the High Seat of House Marcasiev; Queen Ethenielle did not fly so many of her own banners even in Chachin itself.\", metadata={'source': './the_spring.txt'}),\n",
       " Document(page_content=\"wall. The Red Stag waved above every tower. A proud man, was Lord Varan, the High Seat of House Marcasiev; Queen Ethenielle did not fly so many of her own banners even in Chachin itself.\\nThe guards at the outer towers, in helmets with Varan's antlered crest and the Red Stag on their chests, peered into the backs of wagons before allowing them to trundle on to the bridge, or occasionally motioned someone to push a hood further back. No more than a gesture was necessary; the law in every Borderland forbade hiding your face inside village or town, and no one wanted to be mistaken for one of the Eyeless trying to sneak into the city. Hard gazes followed Lan and Bukama on to the bridge. Their faces were clearly visible. And their hadori. No recognition lit any of those watching eyes, though. Two years was a long time in the Borderlands. A great many men could die in two years.\\nLan noticed that Bukama had gone silent, always a bad sign, and cautioned him. 'I never start trouble,' the older man snapped, but he did stop fingering his swordhilt.\\nThe guards on the wall above the open iron-plated gates and those on the bridge wore only back- and breastplates for armour, yet they were no less watchful, especially of a pair of Malkieri with their hair tied back. Bukama's mouth grew tighter at every step.\\n'Al'Lan Mandragoran! The Light preserve us, we heard you were dead fighting the Aiel at the Shining Walls!' The exclamation came from a young guard, taller than the rest, almost as tall as Lan. Young, perhaps a year or two less than he, yet the gap seemed ten years. A lifetime. The guard bowed deeply, left hand on his knee. 'Tai'shar Malkier!' True blood of Malkier. 'I stand ready, Majesty.'\\n'I am not a king,' Lan said quietly. Malkier was dead. Only the war still lived. In him, at least.\\nBukama was not quiet. 'You stand ready for what, boy?' The heel of his bare hand struck the guard's breastplate right over the Red Stag, driving the man upright and back a step. 'You cut your hair short and leave it unbound!' Bukama spat the words. 'You're sworn to a Kandori lord! By what right do you claim to be Malkieri?'\\nThe young man's face reddened as he floundered for answers. Other guards started towards the pair, then halted when Lan let his reins fall. Only that, but they knew his name, now. They eyed his bay stallion, standing still and alert behind him, almost as cautiously as they did him. A warhorse was a formidable weapon, and they could not know Cat Dancer was only half-trained yet.\\nSpace opened up as people already through the gates hurried a little distance before turning to watch, while those still on the bridge pressed back. Shouts rose in both directions from people wanting to know what was holding traffic. Bukama ignored it all, intent on the red-faced guard. He had not dropped the reins of the packhorse or his yellow roan gelding.\", metadata={'source': './the_spring.txt'}),\n",
       " Document(page_content=\"Space opened up as people already through the gates hurried a little distance before turning to watch, while those still on the bridge pressed back. Shouts rose in both directions from people wanting to know what was holding traffic. Bukama ignored it all, intent on the red-faced guard. He had not dropped the reins of the packhorse or his yellow roan gelding.\\nAn officer appeared from the stone guardhouse inside the gates, crested helmet under his arm, but one hand in a steel-backed gauntlet resting on his swordhilt. A bluff, greying man with white scars on his face, Alin Seroku had soldiered forty years along the Blight, yet his eyes widened slightly at the sight of Lan. Plainly he had heard the tales of Lan's death, too.\\n'The Light shine upon you, Lord Mandragoran. The son of el'Leanna and al'Akir, blessed be their memories, is always welcome.' Seroku's eyes flickered towards Bukama, not in welcome. He planted his feet in the middle of the gateway. Five horsemen could have passed easily on either side, but he meant himself for a bar, and he was. None of the guards shifted a boot, yet every one had hand on swordhilt. All but the young man meeting Bukama's glares with his own. 'Lord Marcasiev has commanded us to keep the peace strictly,' Seroku went on, half in apology. But no more than half. 'The city is on edge. All these tales of a man channelling are bad enough, but there have been murders in the street this last month and more, in broad daylight, and strange accidents. People whisper about Shadowspawn loose inside the walls.'\\nLan gave a slight nod. With the Blight so close, people always muttered of Shadowspawn when they had no other explanation, whether for a sudden death or unexpected crop failure. He did not take up Cat Dancer's reins, though. 'We intend to rest here a few days before riding north.'\\nFor a moment he thought Seroku was surprised. Did the man expect pledges to keep the peace, or apologies for Bukama's behaviour? Either would shame Bukama, now. A pity if the war ended here. Lan did not want to die killing Kandori.\\nHis old friend turned from the young guard, who stood quivering, fists clenched at his sides. 'All fault here is mine,' Bukama announced to the air in a flat voice. 'I had no call for what I did. By my mother's name, I will keep Lord Marcasiev's peace. By my mother's name, I will not draw sword inside Canluum's walls.'\", metadata={'source': './the_spring.txt'}),\n",
       " Document(page_content=\"Seroku's jaw dropped, and Lan hid his own shock with difficulty.\\nHesitating only a moment, the scar-faced officer stepped aside, bowing and touching swordhilt then\\nheart. 'There is always welcome for Lan Mandragoran Dai Shan,' he said formally. 'And for Bukama Marenellin, the hero of Salmarna. May you both know peace, one day.'\\n'There is peace in the mother's last embrace,' Lan responded with equal formality, touching hilt and heart.\\n'May she welcome us home, one day,' Seroku finished. No one really wished for the grave, but that was the only place to find peace in the Borderlands.\\nFace like iron, Bukama strode ahead pulling Sun Lance and the packhorse after him, not waiting for Lan. This was not well.\\nCanluum was a city of stone and brick, its paved streets twisting around tall hills. The Aiel invasion had never reached the Borderlands, but the ripples of war always diminished trade a long way from any battles, and now that fighting and winter were both finished, the city had filled with people from every land. Despite the Blight practically on the city's doorstep, gemstones mined in the surrounding hills made Canluum wealthy. And, strangely enough, some of the finest clockmakers anywhere. The cries of hawkers and shopkeepers shouting their wares rose above the hum of the crowd even away from the terraced market squares. Colourfully-dressed musicians, or jugglers, or tumblers performed at every intersection. A handful of lacquered carriages swayed through the mass of people and wagons and carts and barrows, and horses with gold- or silver-mounted saddles and bridles picked their way through the throng, their riders' garb embroidered as ornately as the animals' tack and trimmed with fox or marten or ermine. Hardly a foot of street was left bare anywhere. Lan even saw several Aes Sedai, women with serene, ageless faces. Enough people recognized them on sight that they created eddies in the crowd, swirls to clear a way. Respect or caution, awe or fear, there were sufficient reasons for a king to step aside for a sister. Once you might have gone a year without seeing an Aes Sedai even in the Borderlands, but the sisters seemed to be everywhere since their old Amyrlin Seat died a few months earlier. Maybe it was those tales of a man channelling; they would not let him run free long, if he existed. Lan kept his eyes away from them. The hadori could be enough to attract the interest of a sister seeking a Warder.\", metadata={'source': './the_spring.txt'}),\n",
       " Document(page_content=\"Shockingly, lace veils covered many women's faces. Thin lace, sheer enough to reveal that they had eyes, and no one had ever heard of a female Myrddraal, but Lan had never expected law to yield to mere fashion. Next they would take down the oil-lamps lining the streets and let the nights grow black. Even more shocking than the veils, Bukama looked right at some of those women and did not open his mouth. Then a jut- nosed man named Nazar Kurenin rode in front of Bukama's eyes, and he did not blink. The young guard surely had been born after the Blight swallowed Malkier, but Kurenin, his hair cut short and wearing a forked beard, was twice Lan's age. The years had not erased the marks of his hadori completely. There were many like Kurenin, and the sight of him should have set Bukama spluttering. Lan eyed his friend worriedly.\\nThey had been moving steadily towards the centre of the city, climbing towards the highest hill, Stag's Stand. Lord Marcasiev's fortress-like palace covered the peak, with those of lesser lords and ladies on the terraces below. Any threshold up there offered warm welcome for al'Lan Mandragoran. Perhaps warmer than he wanted now. Balls and hunts, with nobles invited from as much as fifty miles away, including from across the border with Arafel. People avid to hear of his 'adventures'. Young men wanting to join his forays into the Blight, and old men to compare their experiences there with his. Women eager to share the bed of a man whom, so fool stories claimed, the Blight could not kill. Kandor and Arafel were as bad as any southland at times; some of those women would be married. And there would be men like Kurenin, working to submerge memories of lost Malkier, and women who no longer adorned their foreheads with the ki'sain in pledge that they would swear their sons to oppose the Shadow while they breathed. Lan could ignore the false smiles while they named him al'Lan Dai Shan, diademed battle lord and uncrowned king of a nation betrayed while he was in his cradle. In his present mood, Bukama might do murder. Or worse, given his oaths at the gate. He would keep those to the death.\\n'Varan Marcasiev will hold us a week or more with ceremony,' Lan said, turning down a narrower street that led away from the Stand. 'With what we've heard of bandits and the like, he will be just as happy if I don't appear to make my bows.' True enough. He had met the High Seat of House Marcasiev only once, years past, but he remembered a man given entirely to his duties.\\nBukama followed without complaint about missing a palace bed or the feasts the cooks would prepare. It\", metadata={'source': './the_spring.txt'}),\n",
       " Document(page_content=\"was worrying.\\nNo palaces rose in the hollows towards the north wall, only shops and taverns, inns and stables and\\nwagonyards. Bustle surrounded the factors' long warehouses, but no carriages came to the Deeps, and most streets were barely wide enough for carts. They were just as jammed with people as the wide ways, though, and every bit as noisy. Here, the street performers' finery was tarnished, yet they made up for it by being louder, and buyers and sellers alike bellowed as if trying to be heard in the next street. Likely some of the crowd were cutpurses, slipfingers, and other thieves, finished with a morning's business higher up or headed there for the afternoon. It would have been a wonder otherwise, with so many merchants in town. The second time unseen fingers brushed his coat in the crowd, Lan tucked his purse under his shirt. Any banker would advance him more against the Shienaran estate he had been granted on reaching manhood, but loss of the gold on hand meant accepting the hospitality of Stag's Stand.\\nAt the first three inns they tried, slate-roofed cubes of grey stone with bright signs out front, the innkeepers had not a cubbyhole to offer. Lesser traders and merchants' guards filled them to the attics. Bukama began to mutter about making a bed in a hayloft, yet he never mentioned the feather mattresses and linens waiting on the Stand. Leaving their horses with ostlers at a fourth inn, The Blue Rose, Lan entered determined to find some place for them if it took the rest of the day.\\nInside, a greying woman, tall and handsome, presided over a crowded common room where talk and laughter almost drowned out the slender girl singing to the music of her zither. Pipesmoke wreathed the ceiling beams, and the smell of roasting lamb floated from the kitchens. As soon as the innkeeper saw Lan and Bukama, she gave her blue-striped apron a twitch and strode towards them, dark eyes sharp.\\nBefore Lan could open his mouth, she seized Bukama's ears, pulled his head down, and kissed him. Kandori women were seldom retiring, but even so it was a remarkably thorough kiss in front of so many eyes. Pointing fingers and snickering grins flashed among the tables.\\n'It's good to see you again, too, Racelle,' Bukama murmured with a small smile when she finally released him. 'I didn't know you had an inn here. Do you think -?' He lowered his gaze rather than meeting her eyes rudely, and that proved a mistake. Racelle's fist caught his jaw so hard that his hair flailed as he staggered.\\n'Six years without a word,' she snapped. 'Six years?' Grabbing his ears again, she gave him another kiss, longer this time. Took it rather than gave. A sharp twist of his ears met every attempt to do anything besides standing bent over and letting her do as she wished. At least she would not put a knife in his heart if she was kissing him. Perhaps not.\", metadata={'source': './the_spring.txt'}),\n",
       " Document(page_content=\"'Six years without a word,' she snapped. 'Six years?' Grabbing his ears again, she gave him another kiss, longer this time. Took it rather than gave. A sharp twist of his ears met every attempt to do anything besides standing bent over and letting her do as she wished. At least she would not put a knife in his heart if she was kissing him. Perhaps not.\\n'I think Mistress Arovni might find Bukama a room somewhere,' a man's familiar voice said drily behind Lan. 'And you, too, I suppose.'\\nTurning, Lan clasped forearms with the only man in the room beside Bukama of a height with him, Ryne Venamar, his oldest friend except for Bukama. The innkeeper still had Bukama occupied as Ryne led Lan to a small table in the corner. Five years older, Ryne was Malkieri too, but his hair fell in two long bell-laced braids, and more silver bells lined the turned-down tops of his boots and ran up the sleeves of his yellow coat. Bukama did not exactly dislike Ryne - not exactly - yet in his present mood, only Nazar Kurenin could have had a worse effect.\\nWhile the pair of them were settling themselves on benches, a serving maid in a striped apron brought hot spiced wine. Apparently Ryne had ordered as soon as he saw Lan. Dark-eyed and full-lipped, she stared Lan up and down openly as she set his mug in front of him, then whispered her name, Lira, in his ear, and an invitation, if he was staying the night. All he wanted that night was sleep, so he lowered his gaze, murmuring that she honoured him too much. Lira did not let him finish. With a raucous laugh, she bent to bite his ear, hard, then announced that by tomorrow's sun she would have honoured him till his knees would not hold him up. More laughter flared at the tables around them.\\nRyne forestalled any possibility of righting matters, tossing her a fat coin and giving her a slap on the bottom to send her off. Lira offered him a dimpled smile as she slipped the silver into the neck of her dress, but she left sending smoky glances over her shoulder at Lan that made him sigh. If he tried to say no now, she might well pull a knife over the insult.\\n'So your luck still holds with women, too.' Ryne's laugh had an edge. Perhaps he fancied her himself. 'The Light knows, they can't find you handsome; you get uglier every year. Maybe I ought to try some of that coy modesty, let women lead me by the nose.'\", metadata={'source': './the_spring.txt'}),\n",
       " Document(page_content=\"Lan opened his mouth, then took a drink instead of speaking. He should not have to explain, but Ryne's father had taken him to Arafel the year Lan turned ten. The man wore a single blade on his hip instead of two on his back, yet he was Arafellin to his toenails. He actually started conversations with women who had not spoken to him first. Lan, raised by Bukama and his friends in Shienar, had been surrounded by a small community who held to Malkieri ways.\\nA number of people around the room were watching their table, sidelong glances over mugs and goblets. A plump copper-skinned woman wearing a much thicker dress than Domani women usually did made no effort to hide her stares as she spoke excitedly to a fellow with curled moustaches and a large pearl in his ear. Probably wondering whether there would be trouble over Lira. Wondering whether a man wearing the hadori really would kill at the drop of a pin.\\n'I didn't expect to find you in Canluum,' Lan said, setting the wine-mug down. 'Guarding a merchant train?' Bukama and the innkeeper were nowhere to be seen.\\nRyne shrugged. 'Out of Shol Arbela. The luckiest trader in Arafel, they say. Said. Much good it did him. We arrived yesterday, and last night footpads slit his throat two streets over. No return money for me this trip.' He flashed a rueful grin and took a deep pull at his wine, perhaps to the memory of the merchant or perhaps to the lost half of his wages. 'Burn me if I thought to see you here, either.'\\n'You shouldn't listen to rumours, Ryne. I've not taken a wound worth mentioning since I rode south.' Lan decided to twit Bukama if they did get a room, about whether it was already paid for and how. Indignation might take him out of his darkness.\\n'The Aiel,' Ryne snorted. 'I never thought they could put paid to you.' He had never faced Aiel, of course. 'I expected you to be wherever Edeyn Arrel is. Chachin, now, I hear.'\\nThat name snapped Lan's head back to the man across the table. 'Why should I be near the Lady Arrel?' he demanded softly. Softly, but emphasizing her proper title.\\n'Easy, man,' Ryne said. 'I didn't mean . . .'Wisely, he abandoned that line. 'Burn me, do you mean to say you haven't heard? She's raised the Golden Crane. In your name, of course. Since the year turned, she's been from Fal Moran to Maradon, and coming back now.' Ryne shook his head, the bells in his braids chiming faintly. 'There must be two or three hundred men right here in Canluum ready to follow her. You, I mean. Some you'd not believe. Old Kurenin wept when he heard her speak. All ready to carve Malkier out of the Blight again.'\", metadata={'source': './the_spring.txt'}),\n",
       " Document(page_content=\"'What dies in the Blight is gone,' Lan said wearily: He felt more than cold inside. Suddenly Seroku's surprise that he intended to ride north took on new meaning, and the young guard's assertion that he stood ready. Even the looks here in the common room seemed different. And Edeyn was part of it. Always she liked standing in the heart of the storm. 'I must see to my horse,' he told Ryne, scraping his bench back.\\nRyne said something about making a round of the taverns that night, but Lan hardly heard. He hurried through the kitchens, hot from iron stoves and stone ovens and open hearths, into the cool of the stableyard, the mingled smells of horse and hay and woodsmoke. A greylark warbled on the edge of the stable roof. Greylarks came even before robins in the spring. Greylarks had been singing in Fal Moran when Edeyn first whispered in his ear.\\nThe horses had already been stabled, bridles and saddles and packsaddle atop saddle blankets on the stall doors, but the wicker hampers were gone. Plainly Mistress Arovni had sent word to the ostlers that he and Bukama were being given accommodation.\\nThere was only a single groom in the dim stable, a lean, hardfaced woman mucking out. Silently she watched him check Cat Dancer and the other horses as she worked, watched him begin to pace the length of the strawcovered floor. He tried to think, but Edeyn's name kept spinning though his head. Edeyn's face, surrounded by silky black hair that hung below her waist, a beautiful face with large dark eyes that could drink a man's soul even when filled with command.\\nAfter a bit the groom mumbled something in his direction, touching her lips and forehead, and hurriedly shoved her half-filled barrow out of the stable, glancing over her shoulder at him. She paused to shut the doors, and did that hurriedly, too, sealing him in shadow broken only by a little light from open hay doors in the loft. Dust motes danced in the pale golden shafts.\\nLan grimaced. Was she that afraid of a man wearing the hadori? Did she think his pacing a threat? Abruptly he became aware of his hands running over the long hilt of his sword, aware of the tightness in his\", metadata={'source': './the_spring.txt'}),\n",
       " Document(page_content=\"own face. Pacing? No, he had been in the walking stance called Leopard in High Grass, used when there were enemies on all sides. He needed calm.\\nSeating himself crosslegged on a bale of straw, he formed the image of a flame in his mind and fed emotion into it, hate, fear, everything, every scrap, until it seemed that he floated in emptiness. After years of practice, achieving ko'di, the oneness, needed less than a heartbeat. Thought and even his own body seemed distant, but in this state he was more aware than usual, becoming one with the bale beneath him, the stable, the scabbarded sword folded behind him. He could 'feel' the horses, cropping at their mangers, and flies buzzing in the corners. They were all part of him. Especially the sword. This time, though, it was only the emotionless void that he sought.\\nFrom his beltpouch he took a heavy gold signet ring worked with a flying crane and turned it over and over in his fingers. The ring of Malkieri kings, worn by men who had held back the Shadow nine hundred years and more. Countless times it had been remade as time wore it down, always the old ring melted to become part of the new. Some particle might still exist in it of the ring worn by the rulers of Rhamdashar, that had lived before Malkier, and Aramaelle that had been before Rhamdashar. That piece of metal represented over three thousand years fighting the Blight. It had been his almost as long as he had lived, but he had never worn it. Even looking at the ring was a labour, usually. One he disciplined himself to every day. Without the emptiness, he did not think he could have done so today. In ko'di, thought floated free, and emotion lay beyond the horizon.\\nIn his cradle he had been given four gifts. The ring in his hands and the locket that hung around his neck, the sword on his hip and an oath sworn in his name. The locket was the most precious, the oath the heaviest. 'To stand against the Shadow so long as iron is hard and stone abides. To defend the Malkieri while one drop of blood remains. To avenge what cannot be defended.' And then he had been anointed with oil and named Dai Shan, consecrated as the next King of Malkier, and sent away from a land that knew it would die. Twenty men began that journey; five survived to reach Shienar.\\nNothing remained to be defended now, only a nation to avenge, and he had been trained to that from his first step. With his mother's gift at his throat and his father's sword in his hand, with the ring branded on his heart, he had fought to avenge Malkier from his sixteenth nameday. But never had he led men into the Blight. Bukama had ridden with him, and others, but he would not lead men there. That war was his alone. The dead could not be returned to life, a land any more than a man. Only, now, Edeyn Arrel wanted to try.\", metadata={'source': './the_spring.txt'}),\n",
       " Document(page_content=\"Her name echoed in the emptiness within him. A hundred emotions loomed like stark mountains, but he fed them into the flame until all was still. Until his heart beat time with the slow stamping of the stalled horses, and the flies' wings beat rapid counterpoint to his breath. She was his carneira, his first lover. A thousand years of tradition shouted that, despite the stillness that enveloped him.\\nHe had been fifteen, Edeyn more than twice that, when she gathered the hair that had still hung to his waist in her hands and whispered her intentions. Women had still called him beautiful then, enjoying his blushes, and for half a year she had enjoyed parading him on her arm and tucking him into her bed. Until Bukama and the other men gave him the hadori. The gift of his sword on his tenth nameday had made him a man by custom along the Border, though years early for it, yet among Malkieri, that band of braided leather had been more important. Once that was tied around his head, he alone decided where he went, and when, and why. And the dark song of the Blight had become a howl that drowned every other sound. The oath that had murmured so long in his heart became a dance his feet had to follow.\\nAlmost ten years past now that Edeyn had watched him ride away from Fal Moran, and been gone when he returned, yet he still could recall her face more clearly than that of any woman who had shared his bed since. He was no longer a boy, to think that she loved him just because she had chosen to become his first lover, yet there was an old saying among Malkieri men. Your carneira wears part of your soul as a ribbon in her hair for ever. Custom strong as law made it so.\\nOne of the stable doors creaked open to admit Bukama, coatless, shirt tucked raggedly into his breeches. He looked naked without his sword. As if hesitant, he carefully opened both doors wide before coming all the way in. 'What are you going to do?' he said finally. 'Racelle told me about . . . about the Golden Crane.'\\nLan tucked the ring away, letting emptiness drain from him. Edeyn's face suddenly seemed everywhere, just beyond the edge of sight. 'Ryne says even Nazar Kurenin is ready to follow,' he said lightly. 'Wouldn't that be a sight to see?' An army could die trying to defeat the Blight. Armies had died trying. But the memories of Malkier already were dying. A nation was memory as much as land. 'That boy at the gates might let his hair\", metadata={'source': './the_spring.txt'}),\n",
       " Document(page_content=\"grow and ask his father for the hadori.' People were forgetting, trying to forget. When the last man who bound his hair was gone, the last woman who painted her forehead, would Malkier truly be gone, too? 'Why, Ryne might even get rid of those braids.' Any trace of mirth dropped from his voice as he added, 'But is it worth the cost? Some seem to think so.' Bukama snorted, yet there had been a pause. He might be one of those who did.\\nStriding to the stall that held Sun Lance, the older man began to fiddle with his roan's saddle as though suddenly forgetting why he had moved. 'There's always a cost for anything,' he said, not looking up. 'But there are costs, and costs. The Lady Edeyn. . .' He glanced at Lan, then turned to face him. 'She was always one to demand every right and require the smallest obligation be met. Custom ties strings to you, and whatever you choose, she will use them like a set of reins unless you find a way to avoid it.'\\nCarefully Lan tucked his thumbs behind his swordbelt. Bukama had carried him out of Malkier tied to his back. The last of the five. Bukama had the right of a free tongue even when it touched Lan's carneira. 'How do you suggest I avoid my obligations without shame?' he asked more harshly than he had intended. Taking a deep breath, he went on in a milder tone. 'Come; the common room smells much better than this. Ryne suggested a round of the taverns tonight. Unless Mistress Arovni has claims on you. Oh, yes. How much will our rooms cost? Good rooms? Not too dear, I hope.'\\nBukama joined him on the way to the doors, his face going red. 'Not too dear,' he said hastily. 'You have a pallet in the attic, and I . . . ah . . . I'm in Racelle's rooms. I'd like to make a round, but I think Racelle . . . I don't think she means to let me . . . I . . . Young whelp!' he growled. 'There's a lass named Lira in there who's letting it be known you won't be using that pallet tonight, or getting much sleep, so don't think you can -!' He cut off as they walked into the sunlight, bright after the dimness inside. The greylark still sang of spring.\\nSix men were striding across the otherwise empty yard. Six ordinary men with swords at their belts, like any men on any street in the city. Yet Lan knew before their hands moved, before their eyes focused on him and their steps quickened. He had faced too many men who wanted to kill him not to know. And at his side stood Bukama, bound by oaths that would not let him raise a hand even had he been wearing his blade. If they both tried to get back inside the stable, the men would be on them before they could haul the doors shut. Time slowed, flowed like cool honey.\\n'Inside and bar the doors!' Lan snapped as his hand went to his hilt. 'Obey me, armsman!'\\nNever in his life had he given Bukama a command in that fashion, and the man hesitated a heartbeat, then bowed formally. 'My life is yours, Dai Shan,' he said in a thick voice. 'I obey.'\", metadata={'source': './the_spring.txt'}),\n",
       " Document(page_content=\"'Inside and bar the doors!' Lan snapped as his hand went to his hilt. 'Obey me, armsman!'\\nNever in his life had he given Bukama a command in that fashion, and the man hesitated a heartbeat, then bowed formally. 'My life is yours, Dai Shan,' he said in a thick voice. 'I obey.'\\nAs Lan moved forward to meet his attackers, he heard the bar drop inside with a muffled thud. Relief was distant. He floated in ko'di, one with the sword that came smoothly out of its scabbard. One with the men rushing at him, boots thudding on the hard-packed ground as they bared steel.\\nA lean heron of a fellow darted ahead of the others, and Lan danced the forms. Time like cool honey. The greylark sang, and the lean man shrieked as Cutting the Clouds removed his right hand at the wrist, and Lan flowed to one side so the rest could not all come at him together, flowed from form to form. Soft Rain at Sunset laid open a fat man's face, took his left eye, and a ginger-haired young splinter drew a gash across Lan's ribs with Black Pebbles on Snow. Only in stories did one man face six without injury. The Rose Unfolds sliced down a bald man's left arm, and ginger-hair nicked the corner of Lan's eye. Only in stories did one man face six and survive. He had known that from the start. Duty was a mountain, death a feather, and his duty was to Bukama, who had carried an infant on his back. For this moment he lived, though, so he fought, kicking ginger- hair in the head, dancing his way towards death, danced and took wounds, bled and danced the razor's edge of life. Time like cool honey, flowing from form to form, and there could only be one ending. Thought was distant. Death was a feather. Dandelion in the Wind slashed open the now one-eyed fat man's throat - he had barely paused when his face was ruined - a forkbearded fellow with shoulders like a blacksmith gasped in surprise as Kissing the Adder put Lan's steel through his heart.\\nAnd suddenly Lan realized that he alone stood, with six men sprawled across the width of the stableyard. The ginger-haired youth thrashed his heels on the ground one last time, and then only Lan of the seven still breathed. He shook blood from his blade, bent to wipe the last drops off on the blacksmith's too-fine coat, sheathed his sword as formally as if he were in the training yard under Bukama's eye.\\nAbruptly people flooded out of the inn, cooks and stablemen, maids and patrons shouting to know what all the noise was about, staring at the dead men in astonishment. Ryne was the very first, sword already in hand, his face blank as he came to stand by Lan. 'Six,' he muttered, studying the bodies. 'You really do have the Dark\", metadata={'source': './the_spring.txt'}),\n",
       " Document(page_content=\"One's own flaming luck.'\\nDark-eyed Lira reached Lan only moments before Bukama, the pair of them gently parting slashes in his\\nclothes to examine his injuries. She shivered delicately as each was revealed, but she discussed whether an Aes Sedai should be sent for to give Healing and how much stitching was needed in as calm a tone as Bukama, and disparagingly dismissed his hand on the needle in favour of her own. Mistress Arovni stalked about, holding her skirts up out of patches of bloody mud, glaring at the corpses littering her stableyard, complaining in a loud voice that gangs of footpads would never be wandering in daylight if the Watch was doing its job. The Domani woman who had stared at Lan inside agreed just as loudly, and for her pains received a sharp command from the innkeeper to fetch them, along with a shove to start her on her way. It was a measure of Mistress Arovni's shock that she treated one of her patrons so, a measure of everyone's shock that the Domani woman went running without complaint. The innkeeper began organizing men to drag the bodies out of sight, still going on about footpads.\", metadata={'source': './the_spring.txt'})]"
      ]
     },
     "execution_count": 51,
     "metadata": {},
     "output_type": "execute_result"
    }
   ],
   "source": [
    "docs"
   ]
  },
  {
   "cell_type": "code",
   "execution_count": 52,
   "metadata": {},
   "outputs": [],
   "source": [
    "# Get the total number of characters so we can see the average later\n",
    "num_total_characters = sum([len(x.page_content) for x in docs])"
   ]
  },
  {
   "cell_type": "code",
   "execution_count": 53,
   "metadata": {},
   "outputs": [
    {
     "data": {
      "text/plain": [
       "37875"
      ]
     },
     "execution_count": 53,
     "metadata": {},
     "output_type": "execute_result"
    }
   ],
   "source": [
    "num_total_characters"
   ]
  },
  {
   "cell_type": "code",
   "execution_count": 58,
   "metadata": {},
   "outputs": [],
   "source": [
    "embeddings = OpenAIEmbeddings(openai_api_key = os.getenv(\"OPENAI_API_KEY\"))\n"
   ]
  },
  {
   "cell_type": "code",
   "execution_count": 59,
   "metadata": {},
   "outputs": [],
   "source": [
    "# Embed your documents and combine with the raw text in a pseudo db. Note: This will make an API call to OpenAI\n",
    "docsearch = FAISS.from_documents(docs, embeddings)"
   ]
  },
  {
   "cell_type": "code",
   "execution_count": 60,
   "metadata": {},
   "outputs": [],
   "source": [
    "# retrieval engine\n",
    "qa = RetrievalQA.from_chain_type(llm=llm, chain_type=\"stuff\", retriever=docsearch.as_retriever())\n"
   ]
  },
  {
   "cell_type": "code",
   "execution_count": 69,
   "metadata": {},
   "outputs": [
    {
     "data": {
      "text/plain": [
       "\" Bukama is Lan's friend and armsman.\""
      ]
     },
     "execution_count": 69,
     "metadata": {},
     "output_type": "execute_result"
    }
   ],
   "source": [
    "query = \"who is Bukama?\"\n",
    "qa.run(query)"
   ]
  },
  {
   "cell_type": "markdown",
   "metadata": {},
   "source": [
    "## Extraction\n",
    "\n",
    "Extraction is the process of parsing data from a piece of text. This is commonly used with output parsing in order to structure our data.\n",
    "\n"
   ]
  },
  {
   "cell_type": "code",
   "execution_count": 70,
   "metadata": {},
   "outputs": [
    {
     "name": "stderr",
     "output_type": "stream",
     "text": [
      "/Users/uzair/miniconda3/envs/langchain/lib/python3.9/site-packages/langchain_core/_api/deprecation.py:117: LangChainDeprecationWarning: The class `langchain_community.chat_models.openai.ChatOpenAI` was deprecated in langchain-community 0.0.10 and will be removed in 0.2.0. An updated version of the class exists in the langchain-openai package and should be used instead. To use it run `pip install -U langchain-openai` and import as `from langchain_openai import ChatOpenAI`.\n",
      "  warn_deprecated(\n"
     ]
    }
   ],
   "source": [
    "# To help construct our Chat Messages\n",
    "from langchain.schema import HumanMessage\n",
    "from langchain.prompts import PromptTemplate, ChatPromptTemplate, HumanMessagePromptTemplate\n",
    "\n",
    "# We will be using a chat model, defaults to gpt-3.5-turbo\n",
    "from langchain.chat_models import ChatOpenAI\n",
    "\n",
    "# To parse outputs and get structured data back\n",
    "from langchain.output_parsers import StructuredOutputParser, ResponseSchema\n",
    "\n",
    "chat_model = ChatOpenAI(temperature=0, model_name='gpt-3.5-turbo', openai_api_key= os.getenv(\"OPENAI_API_KEY\"))"
   ]
  },
  {
   "cell_type": "code",
   "execution_count": 71,
   "metadata": {},
   "outputs": [],
   "source": [
    "instructions = \"\"\"\n",
    "You will be given a sentence with fruit names, extract those fruit names and assign an emoji to them\n",
    "Return the fruit name and emojis in a python dictionary\n",
    "\"\"\"\n",
    "\n",
    "fruit_names = \"\"\"\n",
    "Apple, Pear, this is an kiwi\n",
    "\"\"\""
   ]
  },
  {
   "cell_type": "code",
   "execution_count": 72,
   "metadata": {},
   "outputs": [
    {
     "name": "stderr",
     "output_type": "stream",
     "text": [
      "/Users/uzair/miniconda3/envs/langchain/lib/python3.9/site-packages/langchain_core/_api/deprecation.py:117: LangChainDeprecationWarning: The function `__call__` was deprecated in LangChain 0.1.7 and will be removed in 0.2.0. Use invoke instead.\n",
      "  warn_deprecated(\n"
     ]
    },
    {
     "name": "stdout",
     "output_type": "stream",
     "text": [
      "{\n",
      "    \"Apple\": \"🍎\",\n",
      "    \"Pear\": \"🍐\",\n",
      "    \"kiwi\": \"🥝\"\n",
      "}\n",
      "<class 'str'>\n"
     ]
    }
   ],
   "source": [
    "# Make your prompt which combines the instructions w/ the fruit names\n",
    "prompt = (instructions + fruit_names)\n",
    "\n",
    "# Call the LLM\n",
    "output = chat_model([HumanMessage(content=prompt)])\n",
    "\n",
    "print (output.content)\n",
    "print (type(output.content))"
   ]
  },
  {
   "cell_type": "code",
   "execution_count": 73,
   "metadata": {},
   "outputs": [
    {
     "name": "stdout",
     "output_type": "stream",
     "text": [
      "{'Apple': '🍎', 'Pear': '🍐', 'kiwi': '🥝'}\n",
      "<class 'dict'>\n"
     ]
    }
   ],
   "source": [
    "output_dict = eval(output.content)\n",
    "\n",
    "print (output_dict)\n",
    "print (type(output_dict))"
   ]
  },
  {
   "cell_type": "markdown",
   "metadata": {},
   "source": [
    "## Using LangChain's Response Schema\n",
    "LangChain's response schema will does two things for us:\n",
    "\n",
    "Autogenerate the a prompt with bonafide format instructions. This is great because I don't need to worry about the prompt engineering side, I'll leave that up to LangChain!\n",
    "\n",
    "Read the output from the LLM and turn it into a proper python object for me"
   ]
  },
  {
   "cell_type": "code",
   "execution_count": 76,
   "metadata": {},
   "outputs": [],
   "source": [
    "response_schemas = [\n",
    "    ResponseSchema(name=\"artist\", description=\"The name of the musical artist\"),\n",
    "    ResponseSchema(name=\"song\", description=\"The name of the song that the artist plays\")\n",
    "]\n",
    "\n",
    "output_parser = StructuredOutputParser.from_response_schemas(response_schemas)\n"
   ]
  },
  {
   "cell_type": "code",
   "execution_count": 77,
   "metadata": {},
   "outputs": [
    {
     "name": "stdout",
     "output_type": "stream",
     "text": [
      "The output should be a markdown code snippet formatted in the following schema, including the leading and trailing \"```json\" and \"```\":\n",
      "\n",
      "```json\n",
      "{\n",
      "\t\"artist\": string  // The name of the musical artist\n",
      "\t\"song\": string  // The name of the song that the artist plays\n",
      "}\n",
      "```\n"
     ]
    }
   ],
   "source": [
    "format_instructions = output_parser.get_format_instructions()\n",
    "print(format_instructions)"
   ]
  },
  {
   "cell_type": "code",
   "execution_count": 78,
   "metadata": {},
   "outputs": [],
   "source": [
    "prompt = ChatPromptTemplate(\n",
    "    messages=[\n",
    "        HumanMessagePromptTemplate.from_template(\"Given a command from the user, extract the artist and song names \\n \\\n",
    "                                                    {format_instructions}\\n{user_prompt}\")  \n",
    "    ],\n",
    "    input_variables=[\"user_prompt\"],\n",
    "    partial_variables={\"format_instructions\": format_instructions}\n",
    ")"
   ]
  },
  {
   "cell_type": "code",
   "execution_count": 81,
   "metadata": {},
   "outputs": [
    {
     "name": "stdout",
     "output_type": "stream",
     "text": [
      "Given a command from the user, extract the artist and song names \n",
      "                                                     The output should be a markdown code snippet formatted in the following schema, including the leading and trailing \"```json\" and \"```\":\n",
      "\n",
      "```json\n",
      "{\n",
      "\t\"artist\": string  // The name of the musical artist\n",
      "\t\"song\": string  // The name of the song that the artist plays\n",
      "}\n",
      "```\n",
      "I really like Tum Mile by Javed\n"
     ]
    }
   ],
   "source": [
    "fruit_query = prompt.format_prompt(user_prompt=\"I really like Tum Mile by Javed\")\n",
    "print (fruit_query.messages[0].content)"
   ]
  },
  {
   "cell_type": "code",
   "execution_count": 82,
   "metadata": {},
   "outputs": [
    {
     "name": "stdout",
     "output_type": "stream",
     "text": [
      "{'artist': 'Javed', 'song': 'Tum Mile'}\n",
      "<class 'dict'>\n"
     ]
    }
   ],
   "source": [
    "fruit_output = chat_model(fruit_query.to_messages())\n",
    "output = output_parser.parse(fruit_output.content)\n",
    "\n",
    "print (output)\n",
    "print (type(output))"
   ]
  },
  {
   "cell_type": "markdown",
   "metadata": {},
   "source": [
    "## Querying Tabular Data"
   ]
  },
  {
   "cell_type": "markdown",
   "metadata": {},
   "source": [
    "The most common type of data in the world sits in tabular form (ok, ok, besides unstructured data). It is super powerful to be able to query this data with LangChain and pass it through to an LLM"
   ]
  },
  {
   "cell_type": "code",
   "execution_count": 106,
   "metadata": {},
   "outputs": [
    {
     "name": "stdout",
     "output_type": "stream",
     "text": [
      "\n",
      "\n",
      "\u001b[1m> Entering new SQLDatabaseChain chain...\u001b[0m\n",
      "what are the columns in the table?\n",
      "SQLQuery:\u001b[32;1m\u001b[1;3mSELECT * FROM pragma_table_info('table')\u001b[0m\n",
      "SQLResult: \u001b[33;1m\u001b[1;3m\u001b[0m\n",
      "Answer:\u001b[32;1m\u001b[1;3mThe columns in the table are \"cid\", \"name\", \"type\", \"notnull\", \"dflt_value\", \"pk\".\u001b[0m\n",
      "\u001b[1m> Finished chain.\u001b[0m\n"
     ]
    },
    {
     "data": {
      "text/plain": [
       "'The columns in the table are \"cid\", \"name\", \"type\", \"notnull\", \"dflt_value\", \"pk\".'"
      ]
     },
     "execution_count": 106,
     "metadata": {},
     "output_type": "execute_result"
    }
   ],
   "source": [
    "from langchain.llms import OpenAI\n",
    "from langchain.sql_database import SQLDatabase\n",
    "from langchain_experimental.sql import SQLDatabaseChain\n",
    "\n",
    "db = SQLDatabase.from_uri(\"sqlite:///Chinook.db\")\n",
    "db_chain = SQLDatabaseChain.from_llm(llm=llm, db=db, verbose=True)\n",
    "\n",
    "db_chain.run(\"what are the columns in the table?\")\n"
   ]
  },
  {
   "cell_type": "code",
   "execution_count": 112,
   "metadata": {},
   "outputs": [],
   "source": [
    "from langchain.agents.agent_types import AgentType\n",
    "from langchain_experimental.agents.agent_toolkits import create_csv_agent\n",
    "from langchain_openai import ChatOpenAI, OpenAI"
   ]
  },
  {
   "cell_type": "code",
   "execution_count": 113,
   "metadata": {},
   "outputs": [],
   "source": [
    "agent = create_csv_agent(\n",
    "    OpenAI(temperature=0),\n",
    "    \"./banking.csv\",\n",
    "    verbose=True,\n",
    "    agent_type=AgentType.ZERO_SHOT_REACT_DESCRIPTION,\n",
    ")"
   ]
  },
  {
   "cell_type": "code",
   "execution_count": 114,
   "metadata": {},
   "outputs": [
    {
     "name": "stdout",
     "output_type": "stream",
     "text": [
      "\n",
      "\n",
      "\u001b[1m> Entering new AgentExecutor chain...\u001b[0m\n",
      "\u001b[32;1m\u001b[1;3mThought: I need to count the number of rows in the dataframe\n",
      "Action: python_repl_ast\n",
      "Action Input: len(df)\u001b[0m\u001b[36;1m\u001b[1;3m41188\u001b[0m\u001b[32;1m\u001b[1;3m41188 is the number of rows in the dataframe\n",
      "Final Answer: 41188\u001b[0m\n",
      "\n",
      "\u001b[1m> Finished chain.\u001b[0m\n"
     ]
    },
    {
     "data": {
      "text/plain": [
       "'41188'"
      ]
     },
     "execution_count": 114,
     "metadata": {},
     "output_type": "execute_result"
    }
   ],
   "source": [
    "agent.run(\"how many rows are there?\")\n",
    "\n"
   ]
  },
  {
   "cell_type": "code",
   "execution_count": 115,
   "metadata": {},
   "outputs": [
    {
     "name": "stdout",
     "output_type": "stream",
     "text": [
      "\n",
      "\n",
      "\u001b[1m> Entering new AgentExecutor chain...\u001b[0m\n",
      "\u001b[32;1m\u001b[1;3mThought: I need to filter the dataframe to only include rows where the marital column is \"married\" and then count the number of rows.\n",
      "Action: python_repl_ast\n",
      "Action Input: df[df[\"marital\"] == \"married\"].count()\u001b[0m\u001b[36;1m\u001b[1;3mage               24928\n",
      "job               24928\n",
      "marital           24928\n",
      "education         24928\n",
      "default           24928\n",
      "housing           24928\n",
      "loan              24928\n",
      "contact           24928\n",
      "month             24928\n",
      "day_of_week       24928\n",
      "duration          24928\n",
      "campaign          24928\n",
      "pdays             24928\n",
      "previous          24928\n",
      "poutcome          24928\n",
      "emp_var_rate      24928\n",
      "cons_price_idx    24928\n",
      "cons_conf_idx     24928\n",
      "euribor3m         24928\n",
      "nr_employed       24928\n",
      "y                 24928\n",
      "dtype: int64\u001b[0m\u001b[32;1m\u001b[1;3m24928 is the number of married people in the dataframe.\n",
      "Final Answer: 24928\u001b[0m\n",
      "\n",
      "\u001b[1m> Finished chain.\u001b[0m\n"
     ]
    },
    {
     "data": {
      "text/plain": [
       "'24928'"
      ]
     },
     "execution_count": 115,
     "metadata": {},
     "output_type": "execute_result"
    }
   ],
   "source": [
    "agent.run(\"how many married people are there?\")\n"
   ]
  },
  {
   "cell_type": "code",
   "execution_count": 116,
   "metadata": {},
   "outputs": [
    {
     "name": "stdout",
     "output_type": "stream",
     "text": [
      "\n",
      "\n",
      "\u001b[1m> Entering new AgentExecutor chain...\u001b[0m\n",
      "\u001b[32;1m\u001b[1;3mThought: I need to calculate the average age first and then take the square root.\n",
      "Action: python_repl_ast\n",
      "Action Input: df['age'].mean()\u001b[0m\u001b[36;1m\u001b[1;3m40.02406040594348\u001b[0m\u001b[32;1m\u001b[1;3m40.02406040594348 is the average age.\n",
      "Action: python_repl_ast\n",
      "Action Input: math.sqrt(40.02406040594348)\u001b[0m\u001b[36;1m\u001b[1;3mNameError: name 'math' is not defined\u001b[0m\u001b[32;1m\u001b[1;3mI need to import the math library to use the sqrt function.\n",
      "Action: python_repl_ast\n",
      "Action Input: import math\u001b[0m\u001b[36;1m\u001b[1;3m\u001b[0m\u001b[32;1m\u001b[1;3mI have now imported the math library.\n",
      "Action: python_repl_ast\n",
      "Action Input: math.sqrt(40.02406040594348)\u001b[0m\u001b[36;1m\u001b[1;3m6.32645717648855\u001b[0m\u001b[32;1m\u001b[1;3m6.32645717648855 is the square root of the average age.\n",
      "Final Answer: 6.32645717648855\u001b[0m\n",
      "\n",
      "\u001b[1m> Finished chain.\u001b[0m\n"
     ]
    },
    {
     "data": {
      "text/plain": [
       "'6.32645717648855'"
      ]
     },
     "execution_count": 116,
     "metadata": {},
     "output_type": "execute_result"
    }
   ],
   "source": [
    "agent.run(\"whats the square root of the average age?\")\n",
    "\n"
   ]
  },
  {
   "cell_type": "code",
   "execution_count": 117,
   "metadata": {},
   "outputs": [
    {
     "name": "stdout",
     "output_type": "stream",
     "text": [
      "\n",
      "\n",
      "\u001b[1m> Entering new AgentExecutor chain...\u001b[0m\n",
      "\u001b[32;1m\u001b[1;3mThought: I need to filter the dataframe to only include rows where the job is \"management\" and then count the number of rows.\n",
      "Action: python_repl_ast\n",
      "Action Input: df[df[\"job\"] == \"management\"].count()\u001b[0m\u001b[36;1m\u001b[1;3mage               2924\n",
      "job               2924\n",
      "marital           2924\n",
      "education         2924\n",
      "default           2924\n",
      "housing           2924\n",
      "loan              2924\n",
      "contact           2924\n",
      "month             2924\n",
      "day_of_week       2924\n",
      "duration          2924\n",
      "campaign          2924\n",
      "pdays             2924\n",
      "previous          2924\n",
      "poutcome          2924\n",
      "emp_var_rate      2924\n",
      "cons_price_idx    2924\n",
      "cons_conf_idx     2924\n",
      "euribor3m         2924\n",
      "nr_employed       2924\n",
      "y                 2924\n",
      "dtype: int64\u001b[0m\u001b[32;1m\u001b[1;3m2924 people are doing management job.\n",
      "Final Answer: 2924\u001b[0m\n",
      "\n",
      "\u001b[1m> Finished chain.\u001b[0m\n"
     ]
    },
    {
     "data": {
      "text/plain": [
       "'2924'"
      ]
     },
     "execution_count": 117,
     "metadata": {},
     "output_type": "execute_result"
    }
   ],
   "source": [
    "agent.run(\"whats many people are doing management job?\")\n",
    "\n"
   ]
  },
  {
   "cell_type": "markdown",
   "metadata": {},
   "source": [
    "## ChatBot"
   ]
  },
  {
   "cell_type": "markdown",
   "metadata": {},
   "source": [
    "Chatbots use many of the tools we've already looked at with the addition of an important topic: Memory. \n"
   ]
  },
  {
   "cell_type": "code",
   "execution_count": 119,
   "metadata": {},
   "outputs": [],
   "source": [
    "from langchain.llms import OpenAI\n",
    "from langchain import LLMChain\n",
    "from langchain.prompts.prompt import PromptTemplate\n",
    "\n",
    "# Chat specific components\n",
    "from langchain.memory import ConversationBufferMemory"
   ]
  },
  {
   "cell_type": "code",
   "execution_count": 120,
   "metadata": {},
   "outputs": [],
   "source": [
    "template = \"\"\"\n",
    "You are a chatbot that is solving the coding question in python language.\n",
    "\n",
    "{chat_history}\n",
    "Human: {human_input}\n",
    "Chatbot:\"\"\"\n",
    "\n",
    "prompt = PromptTemplate(\n",
    "    input_variables=[\"chat_history\", \"human_input\"], \n",
    "    template=template\n",
    ")\n",
    "memory = ConversationBufferMemory(memory_key=\"chat_history\")"
   ]
  },
  {
   "cell_type": "code",
   "execution_count": 121,
   "metadata": {},
   "outputs": [],
   "source": [
    "llm_chain = LLMChain(\n",
    "    llm=OpenAI(openai_api_key=os.getenv(\"OPENAI_API_KEY\")), \n",
    "    prompt=prompt, \n",
    "    verbose=True, \n",
    "    memory=memory\n",
    ")"
   ]
  },
  {
   "cell_type": "code",
   "execution_count": 122,
   "metadata": {},
   "outputs": [
    {
     "name": "stdout",
     "output_type": "stream",
     "text": [
      "\n",
      "\n",
      "\u001b[1m> Entering new LLMChain chain...\u001b[0m\n",
      "Prompt after formatting:\n",
      "\u001b[32;1m\u001b[1;3m\n",
      "You are a chatbot that is solving the coding question in python language.\n",
      "\n",
      "\n",
      "Human: explain the concept of recurssion\n",
      "Chatbot:\u001b[0m\n",
      "\n",
      "\u001b[1m> Finished chain.\u001b[0m\n"
     ]
    },
    {
     "data": {
      "text/plain": [
       "' Recursion is a programming technique where a function calls itself repeatedly until a certain condition is met. This allows for solving complex problems by breaking them down into smaller, simpler versions of itself. The base case is the condition that stops the recursive function from calling itself, and the recursive case is where the function calls itself again with a modified input. This process continues until the base case is reached, and the function then returns the solution to the original problem. Recursion is commonly used in algorithms such as sorting and searching, and it can also be used to solve problems that can be broken down into smaller subproblems.'"
      ]
     },
     "execution_count": 122,
     "metadata": {},
     "output_type": "execute_result"
    }
   ],
   "source": [
    "llm_chain.predict(human_input=\"explain the concept of recurssion\")\n"
   ]
  },
  {
   "cell_type": "code",
   "execution_count": 123,
   "metadata": {},
   "outputs": [
    {
     "name": "stdout",
     "output_type": "stream",
     "text": [
      "\n",
      "\n",
      "\u001b[1m> Entering new LLMChain chain...\u001b[0m\n",
      "Prompt after formatting:\n",
      "\u001b[32;1m\u001b[1;3m\n",
      "You are a chatbot that is solving the coding question in python language.\n",
      "\n",
      "Human: explain the concept of recurssion\n",
      "AI:  Recursion is a programming technique where a function calls itself repeatedly until a certain condition is met. This allows for solving complex problems by breaking them down into smaller, simpler versions of itself. The base case is the condition that stops the recursive function from calling itself, and the recursive case is where the function calls itself again with a modified input. This process continues until the base case is reached, and the function then returns the solution to the original problem. Recursion is commonly used in algorithms such as sorting and searching, and it can also be used to solve problems that can be broken down into smaller subproblems.\n",
      "Human: code in python about the concept I asked you earlier\n",
      "Chatbot:\u001b[0m\n",
      "\n",
      "\u001b[1m> Finished chain.\u001b[0m\n"
     ]
    },
    {
     "data": {
      "text/plain": [
       "' Sure, here is an example of a recursive function in Python that calculates the factorial of a number:\\n\\ndef factorial(n):\\n    if n == 0:\\n        return 1\\n    else:\\n        return n * factorial(n-1)\\n\\nThis function takes in a number and checks if it is equal to 0. If so, it returns 1 since the factorial of 0 is 1. If not, it calls itself again with the number decreased by 1 and multiplies it with the current number. This process continues until the base case is reached, and the final result is returned.'"
      ]
     },
     "execution_count": 123,
     "metadata": {},
     "output_type": "execute_result"
    }
   ],
   "source": [
    "llm_chain.predict(human_input=\"code in python about the concept I asked you earlier\")\n"
   ]
  },
  {
   "cell_type": "code",
   "execution_count": 124,
   "metadata": {},
   "outputs": [
    {
     "name": "stdout",
     "output_type": "stream",
     "text": [
      "\n",
      "\n",
      "\u001b[1m> Entering new LLMChain chain...\u001b[0m\n",
      "Prompt after formatting:\n",
      "\u001b[32;1m\u001b[1;3m\n",
      "You are a chatbot that is solving the coding question in python language.\n",
      "\n",
      "Human: explain the concept of recurssion\n",
      "AI:  Recursion is a programming technique where a function calls itself repeatedly until a certain condition is met. This allows for solving complex problems by breaking them down into smaller, simpler versions of itself. The base case is the condition that stops the recursive function from calling itself, and the recursive case is where the function calls itself again with a modified input. This process continues until the base case is reached, and the function then returns the solution to the original problem. Recursion is commonly used in algorithms such as sorting and searching, and it can also be used to solve problems that can be broken down into smaller subproblems.\n",
      "Human: code in python about the concept I asked you earlier\n",
      "AI:  Sure, here is an example of a recursive function in Python that calculates the factorial of a number:\n",
      "\n",
      "def factorial(n):\n",
      "    if n == 0:\n",
      "        return 1\n",
      "    else:\n",
      "        return n * factorial(n-1)\n",
      "\n",
      "This function takes in a number and checks if it is equal to 0. If so, it returns 1 since the factorial of 0 is 1. If not, it calls itself again with the number decreased by 1 and multiplies it with the current number. This process continues until the base case is reached, and the final result is returned.\n",
      "Human: what is this concept is called in laymen language\n",
      "Chatbot:\u001b[0m\n",
      "\n",
      "\u001b[1m> Finished chain.\u001b[0m\n"
     ]
    },
    {
     "data": {
      "text/plain": [
       "\" In simpler terms, recursion is a programming technique where a function solves a problem by breaking it down into smaller versions of itself until a solution is reached. It's like solving a puzzle by breaking it into smaller pieces and putting them together.\""
      ]
     },
     "execution_count": 124,
     "metadata": {},
     "output_type": "execute_result"
    }
   ],
   "source": [
    "llm_chain.predict(human_input=\"what is this concept is called in laymen language\")\n"
   ]
  },
  {
   "cell_type": "markdown",
   "metadata": {},
   "source": [
    "## Agents \n",
    "Agents are one of the hottest 🔥 topics in LLMs. Agents are the decision makers that can look a data, reason about what the next action should be, and execute that action for you via tools"
   ]
  },
  {
   "cell_type": "code",
   "execution_count": 126,
   "metadata": {},
   "outputs": [],
   "source": []
  },
  {
   "cell_type": "code",
   "execution_count": null,
   "metadata": {},
   "outputs": [],
   "source": []
  }
 ],
 "metadata": {
  "kernelspec": {
   "display_name": "langchain",
   "language": "python",
   "name": "python3"
  },
  "language_info": {
   "codemirror_mode": {
    "name": "ipython",
    "version": 3
   },
   "file_extension": ".py",
   "mimetype": "text/x-python",
   "name": "python",
   "nbconvert_exporter": "python",
   "pygments_lexer": "ipython3",
   "version": "3.9.18"
  }
 },
 "nbformat": 4,
 "nbformat_minor": 2
}
